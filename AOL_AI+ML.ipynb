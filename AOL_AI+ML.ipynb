{
  "cells": [
    {
      "cell_type": "markdown",
      "metadata": {
        "id": "Gk5eihQB6bhY"
      },
      "source": [
        "Supervisor: LILI AYU WULANDHARI, S.Si., M.Sc., Ph.D.\n",
        "\n",
        "2502003895 - GLORY DANIELLA <br>\n",
        "2540119223 - MARBELLA <br>\n",
        "2502001353 - ALBERT GABRIEL TUWAN\n",
        "\n",
        "Also Thanks to\n",
        "BHARUNO MAHESWORO, S.T., MSc"
      ]
    },
    {
      "cell_type": "markdown",
      "metadata": {
        "id": "zGL62O2dabtO"
      },
      "source": [
        "Dataset Used (Credit Score Classification): <br>\n",
        "https://www.kaggle.com/datasets/parisrohan/credit-score-classification"
      ]
    },
    {
      "cell_type": "markdown",
      "metadata": {
        "id": "jkoyZ95_egOq"
      },
      "source": [
        "# Table of Contents\n",
        "<a href='#scrollTo=MO00z4lAf2Nk'>1. Variable Explanation</a>\n",
        "\n",
        "<a href='#scrollTo=ZW2J0FU3e7Yu'>2. Get Data</a>\n",
        "\n",
        "<a href='#scrollTo=ykOeocXLe0eR'>3. Import Library</a>\n",
        "\n",
        "<a href='#scrollTo=EWUE3m5lSrAc'>4. Data Preparation</a>\n",
        "- <a href='#scrollTo=zMjSMWqkhDUD'>4.1. Read Train Dataset</a>\n",
        "- <a href='#scrollTo=qTd0yu02f73G'>4.2. Data Cleaning and Exploration</a>\n",
        " - <a href='#scrollTo=msqSbvb_-bBI'>4.2.1. Observation Result and Identifying Issue</a>\n",
        " - <a href='#scrollTo=obWNNIetJ45c'>4.2.2. Fixing Fault Input and Handling Missing Value</a>\n",
        " - <a href='#scrollTo=UUnzLlozz1P6'>4.2.3. Clean Outlier</a>\n",
        "- <a href='#scrollTo=VCkps30IR3vz'>4.3. Feature Engineering</a>\n",
        " - <a href='#scrollTo=PxIiSSOaSAIw'>4.3.1. Type_of_Loan</a>\n",
        " - <a href='#scrollTo=pTLc5QKKFCTV'>4.3.2. Occupation</a>\n",
        " - <a href='#scrollTo=2JwjLBbSAtXL'>4.3.3. Credit_Mix</a>\n",
        " - <a href='#scrollTo=hnVViwmQBO3X'>4.3.4. Payment_of_Min_Amount</a>\n",
        " - <a href='#scrollTo=lh62E5KJSE7x'>4.3.5. Payment_Behaviour</a>\n",
        " - <a href='#scrollTo=N83gAgU7SHzY'>4.3.6. Ekstract Feature: Credit Score from the previous month</a>\n",
        "\n",
        "<a href=''>5. Modeling and Evaluation</a>\n",
        "- <a href='#scrollTo=V7WlpOX7Sr7W'>5.1. Split Data</a>\n",
        "- <a href='#scrollTo=1ai7NRVFs33g'>5.2. Base Model</a>\n",
        " - <a href='#scrollTo=NxxGiMZPtCkR'>5.2.1. Naive Bayes</a>\n",
        " - <a href='#scrollTo=MU6aZX1Bs9FW'>5.2.2. Logistic Regression</a>\n",
        " - <a href='#scrollTo=GvxMpFYLtAUM'>5.2.3. Decision Tree</a>\n",
        "- <a href='#scrollTo=A2CwCiuNwEeJ'>5.3. Ensemble Model and Performance Improvement</a>\n",
        " - <a href='#scrollTo=Z1SrVVeawMZU'>5.3.1. Random Forest</a>\n",
        " - <a href='#scrollTo=uy9VU0hZ9osq'>5.3.2. Feature Importance</a>\n",
        " - <a href='#scrollTo=bp7HpSCe1dbm'>5.3.3. OverSampling</a>\n",
        " - <a href='#scrollTo=Wyrha8F49f9Z'>5.3.4 Hyperparameter Tuning</a>\n"
      ]
    },
    {
      "cell_type": "markdown",
      "metadata": {
        "id": "MO00z4lAf2Nk"
      },
      "source": [
        "# 1. Variable Explanation"
      ]
    },
    {
      "cell_type": "markdown",
      "metadata": {
        "id": "TekLPW82Wv_k"
      },
      "source": [
        "\n",
        "There are <B>27 Variables </B> in the train dataset used to classify the Credit_Score target.<Br>\n",
        "The explaination for each variable <Br>\n",
        "<ol>\n",
        "  <li>ID: The unique identifier for each data entry.</li>\n",
        "  <li>Customer_ID: The unique identifier for each person.</li>\n",
        "  <li>Month: Month name (ranged from January to Auggust).</li>\n",
        "  <li>Name: Name of the customer.</li>\n",
        "  <li>Age: Age of the customer.</li>\n",
        "  <li>SSN: Social security number of the customer.</li>\n",
        "  <li>Occupation: Occupation of the customer.</li>\n",
        "  <li>Annual_Income: Annual income of the customer.</li>\n",
        "  <li>Monthly_Inhand_Salary: Monthly base salary of the customer.</li>\n",
        "  <li>Num_Bank_Accounts: Number of bank account the customer holds.</li>\n",
        "  <li>Num_Credit_Card: Number of credit card the customer holds.</li>\n",
        "  <li>Interest_Rate: Interest rate of the credit card.</li>\n",
        "  <li>Num_of_Loan:  Number of loans the customer taken from the bank.</li>\n",
        "  <li>Type_of_Loan: Types of loan taken by a person</li>\n",
        "  <li>Delay_from_due_date: Average number of days delayed from the payment date.</li>\n",
        "  <li>Num_of_Delayed_Payment: Average number of payments delayed by a person.</li>\n",
        "  <li>Changed_Credit_Limit: Percentage change in credit card limit</li>\n",
        "  <li>Num_Credit_Inquiries: Number of credit card inquiries.</li>\n",
        "  <li>Credit_Mix: The classification of the mix of credits</li>\n",
        "  <li>Outstanding_Debt: The remaining debt to be paid (in USD)</li>\n",
        "  <li>Credit_Utilization_Ratio: The utilization ratio of credit card</li>\n",
        "  <li>Credit_History_Age: The age of credit history of the person</li>\n",
        "  <li>Payment_of_Min_Amount: Whether only the minimum amount was paid by the person</li>\n",
        "  <li>Total_EMI_per_month: Monthly EMI payments (in USD)</li>\n",
        "  <li>Amount_invested_monthly: Monthly amount invested by the customer (in USD)</li>\n",
        "  <li>Payment_Behaviour: Payment behaviour of the customer</li>\n",
        "  <li>Monthly_Balance: Monthly balance amount of the customer (in USD)</li>\n",
        "  <li>Credit_Score: Bracket of credit score (Poor, Standard, Good)</li>\n",
        "</ol>"
      ]
    },
    {
      "cell_type": "markdown",
      "metadata": {
        "id": "ZW2J0FU3e7Yu"
      },
      "source": [
        "# 2. Get Data"
      ]
    },
    {
      "cell_type": "code",
      "execution_count": null,
      "metadata": {
        "colab": {
          "base_uri": "https://localhost:8080/"
        },
        "id": "ggtLETec7cf4",
        "outputId": "5ec0454d-01b6-4d03-cd3d-94dbce19e81b"
      },
      "outputs": [
        {
          "output_type": "stream",
          "name": "stdout",
          "text": [
            "--2023-06-23 12:44:22--  https://github.com/alberttuwan1/AOL_DB/raw/main/archive%20(6).zip\n",
            "Resolving github.com (github.com)... 140.82.114.4\n",
            "Connecting to github.com (github.com)|140.82.114.4|:443... connected.\n",
            "HTTP request sent, awaiting response... 302 Found\n",
            "Location: https://raw.githubusercontent.com/alberttuwan1/AOL_DB/main/archive%20(6).zip [following]\n",
            "--2023-06-23 12:44:22--  https://raw.githubusercontent.com/alberttuwan1/AOL_DB/main/archive%20(6).zip\n",
            "Resolving raw.githubusercontent.com (raw.githubusercontent.com)... 185.199.108.133, 185.199.109.133, 185.199.110.133, ...\n",
            "Connecting to raw.githubusercontent.com (raw.githubusercontent.com)|185.199.108.133|:443... connected.\n",
            "HTTP request sent, awaiting response... 200 OK\n",
            "Length: 9973595 (9.5M) [application/zip]\n",
            "Saving to: ‘archive (6).zip’\n",
            "\n",
            "archive (6).zip     100%[===================>]   9.51M  --.-KB/s    in 0.03s   \n",
            "\n",
            "2023-06-23 12:44:22 (324 MB/s) - ‘archive (6).zip’ saved [9973595/9973595]\n",
            "\n",
            "Archive:  archive (6).zip\n",
            "  inflating: test.csv                \n",
            "  inflating: train.csv               \n"
          ]
        }
      ],
      "source": [
        "# Get data is from the github, which has been uploaded previously by the researcher\n",
        "!wget 'https://github.com/alberttuwan1/AOL_DB/raw/main/archive%20(6).zip'\n",
        "!unzip 'archive (6).zip'"
      ]
    },
    {
      "cell_type": "markdown",
      "metadata": {
        "id": "ykOeocXLe0eR"
      },
      "source": [
        "# 3. Import Library"
      ]
    },
    {
      "cell_type": "code",
      "execution_count": null,
      "metadata": {
        "id": "hufjjJ58ZeYp"
      },
      "outputs": [],
      "source": [
        "# Importing fundamental libraries\n",
        "import numpy as np\n",
        "import pandas as pd\n",
        "import matplotlib.pyplot as plt\n",
        "import seaborn as sns\n",
        "import time\n",
        "\n",
        "pd.set_option('display.max_columns', None)"
      ]
    },
    {
      "cell_type": "markdown",
      "metadata": {
        "id": "EWUE3m5lSrAc"
      },
      "source": [
        "# 4. Data Preparation"
      ]
    },
    {
      "cell_type": "markdown",
      "metadata": {
        "id": "zMjSMWqkhDUD"
      },
      "source": [
        "## 4.1 Read Train dataset"
      ]
    },
    {
      "cell_type": "code",
      "execution_count": null,
      "metadata": {
        "id": "z0EYZLvBhEx9"
      },
      "outputs": [],
      "source": [
        "# Read data and get information\n",
        "df_train = pd.read_csv('train.csv')\n",
        "df_train.info()\n",
        "df_train.describe().T"
      ]
    },
    {
      "cell_type": "code",
      "execution_count": null,
      "metadata": {
        "id": "VZkyYpliOJbg"
      },
      "outputs": [],
      "source": [
        "df_train.head(24)"
      ]
    },
    {
      "cell_type": "markdown",
      "metadata": {
        "id": "qTd0yu02f73G"
      },
      "source": [
        "## 4.2. Data Exploration and Data Cleaning\n",
        "in this section we will do both data exploration and data cleaning iteratively, i.e., explore data, find something, uncover and understand patterns, and clean as necessary."
      ]
    },
    {
      "cell_type": "code",
      "execution_count": null,
      "metadata": {
        "colab": {
          "base_uri": "https://localhost:8080/"
        },
        "id": "-YEkt0UeMKMO",
        "outputId": "6ea98452-b4cd-4b5d-dcf8-1f4a38e26b07"
      },
      "outputs": [
        {
          "output_type": "execute_result",
          "data": {
            "text/plain": [
              "ID                              0\n",
              "Customer_ID                     0\n",
              "Month                           0\n",
              "Name                         9985\n",
              "Age                             0\n",
              "SSN                             0\n",
              "Occupation                      0\n",
              "Annual_Income                   0\n",
              "Monthly_Inhand_Salary       15002\n",
              "Num_Bank_Accounts               0\n",
              "Num_Credit_Card                 0\n",
              "Interest_Rate                   0\n",
              "Num_of_Loan                     0\n",
              "Type_of_Loan                11408\n",
              "Delay_from_due_date             0\n",
              "Num_of_Delayed_Payment       7002\n",
              "Changed_Credit_Limit            0\n",
              "Num_Credit_Inquiries         1965\n",
              "Credit_Mix                      0\n",
              "Outstanding_Debt                0\n",
              "Credit_Utilization_Ratio        0\n",
              "Credit_History_Age           9030\n",
              "Payment_of_Min_Amount           0\n",
              "Total_EMI_per_month             0\n",
              "Amount_invested_monthly      4479\n",
              "Payment_Behaviour               0\n",
              "Monthly_Balance              1200\n",
              "Credit_Score                    0\n",
              "dtype: int64"
            ]
          },
          "metadata": {},
          "execution_count": 5
        }
      ],
      "source": [
        "# View the number of missing value in each column\n",
        "# You also get this information from .info(), but using this\n",
        "# make it much easier\n",
        "\n",
        "df_train.isnull().sum()"
      ]
    },
    {
      "cell_type": "code",
      "execution_count": null,
      "metadata": {
        "colab": {
          "base_uri": "https://localhost:8080/"
        },
        "id": "JAL3Ed6G1mNM",
        "outputId": "28107af7-9ebc-4ffd-b4c0-ef6f4d9c461f"
      },
      "outputs": [
        {
          "output_type": "stream",
          "name": "stdout",
          "text": [
            "Number of ID                       : 100000\n",
            "Number of Customer_ID              : 12500\n",
            "Number of Month                    : 8\n",
            "Number of Name                     : 10139\n",
            "Number of Age                      : 1788\n",
            "Number of SSN                      : 12501\n",
            "Number of Occupation               : 16\n",
            "Number of Annual_Income            : 18940\n",
            "Number of Monthly_Inhand_Salary    : 13235\n",
            "Number of Num_Bank_Accounts        : 943\n",
            "Number of Num_Credit_Card          : 1179\n",
            "Number of Interest_Rate            : 1750\n",
            "Number of Num_of_Loan              : 434\n",
            "Number of Type_of_Loan             : 6260\n",
            "Number of Delay_from_due_date      : 73\n",
            "Number of Num_of_Delayed_Payment   : 749\n",
            "Number of Changed_Credit_Limit     : 4384\n",
            "Number of Num_Credit_Inquiries     : 1223\n",
            "Number of Credit_Mix               : 4\n",
            "Number of Outstanding_Debt         : 13178\n",
            "Number of Credit_Utilization_Ratio : 100000\n",
            "Number of Credit_History_Age       : 404\n",
            "Number of Payment_of_Min_Amount    : 3\n",
            "Number of Total_EMI_per_month      : 14950\n",
            "Number of Amount_invested_monthly  : 91049\n",
            "Number of Payment_Behaviour        : 7\n",
            "Number of Monthly_Balance          : 98792\n",
            "Number of Credit_Score             : 3\n"
          ]
        }
      ],
      "source": [
        "max_column_length = max(len(i) for i in df_train.columns)\n",
        "\n",
        "for i in df_train.columns:\n",
        "    print(f'Number of {i:{max_column_length}s} : {df_train[i].nunique()}')"
      ]
    },
    {
      "cell_type": "code",
      "execution_count": null,
      "metadata": {
        "colab": {
          "base_uri": "https://localhost:8080/"
        },
        "id": "94TYJAW5VNa5",
        "outputId": "32964889-2e4a-4efa-afcc-9e161b12a055"
      },
      "outputs": [
        {
          "output_type": "stream",
          "name": "stdout",
          "text": [
            "All month recorded\n"
          ]
        },
        {
          "output_type": "execute_result",
          "data": {
            "text/plain": [
              "January     12500\n",
              "February    12500\n",
              "March       12500\n",
              "April       12500\n",
              "May         12500\n",
              "June        12500\n",
              "July        12500\n",
              "August      12500\n",
              "Name: Month, dtype: int64"
            ]
          },
          "metadata": {},
          "execution_count": 7
        }
      ],
      "source": [
        "print('All month recorded')\n",
        "df_train['Month'].value_counts()"
      ]
    },
    {
      "cell_type": "code",
      "execution_count": null,
      "metadata": {
        "colab": {
          "base_uri": "https://localhost:8080/"
        },
        "id": "OJB9d0jAIPM7",
        "outputId": "7cae2c25-0e2a-42ee-b092-76724934b56e"
      },
      "outputs": [
        {
          "output_type": "stream",
          "name": "stdout",
          "text": [
            "All occupation recorded\n"
          ]
        },
        {
          "output_type": "execute_result",
          "data": {
            "text/plain": [
              "_______          7062\n",
              "Lawyer           6575\n",
              "Architect        6355\n",
              "Engineer         6350\n",
              "Scientist        6299\n",
              "Mechanic         6291\n",
              "Accountant       6271\n",
              "Developer        6235\n",
              "Media_Manager    6232\n",
              "Teacher          6215\n",
              "Entrepreneur     6174\n",
              "Doctor           6087\n",
              "Journalist       6085\n",
              "Manager          5973\n",
              "Musician         5911\n",
              "Writer           5885\n",
              "Name: Occupation, dtype: int64"
            ]
          },
          "metadata": {},
          "execution_count": 8
        }
      ],
      "source": [
        "print('All occupation recorded')\n",
        "df_train['Occupation'].value_counts()"
      ]
    },
    {
      "cell_type": "code",
      "execution_count": null,
      "metadata": {
        "colab": {
          "base_uri": "https://localhost:8080/"
        },
        "id": "rvGeyDfSIPWE",
        "outputId": "a69cfbb0-fe4f-4bc6-a34f-04c8424f79be"
      },
      "outputs": [
        {
          "output_type": "stream",
          "name": "stdout",
          "text": [
            "All credit Mix recorded\n"
          ]
        },
        {
          "output_type": "execute_result",
          "data": {
            "text/plain": [
              "Standard    36479\n",
              "Good        24337\n",
              "_           20195\n",
              "Bad         18989\n",
              "Name: Credit_Mix, dtype: int64"
            ]
          },
          "metadata": {},
          "execution_count": 9
        }
      ],
      "source": [
        "print('All credit Mix recorded')\n",
        "df_train['Credit_Mix'].value_counts()"
      ]
    },
    {
      "cell_type": "code",
      "execution_count": null,
      "metadata": {
        "colab": {
          "base_uri": "https://localhost:8080/"
        },
        "id": "HteBh0YlIPdL",
        "outputId": "b22baad5-dca6-4ded-df2e-4a100c9b4390"
      },
      "outputs": [
        {
          "output_type": "stream",
          "name": "stdout",
          "text": [
            "All payment of min amount recorded\n"
          ]
        },
        {
          "output_type": "execute_result",
          "data": {
            "text/plain": [
              "Yes    52326\n",
              "No     35667\n",
              "NM     12007\n",
              "Name: Payment_of_Min_Amount, dtype: int64"
            ]
          },
          "metadata": {},
          "execution_count": 10
        }
      ],
      "source": [
        "print('All payment of min amount recorded')\n",
        "df_train['Payment_of_Min_Amount'].value_counts()"
      ]
    },
    {
      "cell_type": "code",
      "execution_count": null,
      "metadata": {
        "colab": {
          "base_uri": "https://localhost:8080/"
        },
        "id": "aMBqARnrIPgw",
        "outputId": "9e5ecbfb-bd9a-4ad4-fc35-0580fdc1be01"
      },
      "outputs": [
        {
          "output_type": "stream",
          "name": "stdout",
          "text": [
            "All payment behaviour recorded\n"
          ]
        },
        {
          "output_type": "execute_result",
          "data": {
            "text/plain": [
              "Low_spent_Small_value_payments      25513\n",
              "High_spent_Medium_value_payments    17540\n",
              "Low_spent_Medium_value_payments     13861\n",
              "High_spent_Large_value_payments     13721\n",
              "High_spent_Small_value_payments     11340\n",
              "Low_spent_Large_value_payments      10425\n",
              "!@9#%8                               7600\n",
              "Name: Payment_Behaviour, dtype: int64"
            ]
          },
          "metadata": {},
          "execution_count": 11
        }
      ],
      "source": [
        "print('All payment behaviour recorded')\n",
        "df_train['Payment_Behaviour'].value_counts()"
      ]
    },
    {
      "cell_type": "code",
      "execution_count": null,
      "metadata": {
        "colab": {
          "base_uri": "https://localhost:8080/"
        },
        "id": "t7O1laQXIlkO",
        "outputId": "a63e9905-56b8-44fc-d92e-6939d17e598d"
      },
      "outputs": [
        {
          "output_type": "stream",
          "name": "stdout",
          "text": [
            "All credit score recorded\n"
          ]
        },
        {
          "output_type": "execute_result",
          "data": {
            "text/plain": [
              "Standard    53174\n",
              "Poor        28998\n",
              "Good        17828\n",
              "Name: Credit_Score, dtype: int64"
            ]
          },
          "metadata": {},
          "execution_count": 12
        }
      ],
      "source": [
        "print('All credit score recorded')\n",
        "df_train['Credit_Score'].value_counts()"
      ]
    },
    {
      "cell_type": "markdown",
      "metadata": {
        "id": "msqSbvb_-bBI"
      },
      "source": [
        "### 4.2.1 Observation Result and Identifying Issue"
      ]
    },
    {
      "cell_type": "markdown",
      "metadata": {
        "id": "Sz_UQhXWVYuD"
      },
      "source": [
        "<ol>\n",
        "  <li>There are 12500 customers recorded with each has 8 month (January to August) info data worth, hence there are 100000 total data.</li>\n",
        "  <li>There are some data that depend on another variable and thus have some fixed value, i.e., 'Name', 'Age', 'SSN', depend on Customer_ID.\n",
        "  <li>Columns like 'ID', 'Name', 'Age', 'SSN' will be dropped as assume it will not have any contribution for the classification. Columns like 'Customer_ID' and 'Month' will not be immediately dropped as it may help to impute various columns.</li>\n",
        "  </li>\n",
        "  <li>There are some columns that are not standarized, i.e., the numerical columns are categorized as categorical column. These columns include 'Annual_Income', 'Num_of_Loan', 'Num_of_Delayed_Payment', 'Changed_Credit_Limit', 'Amount_invested_monthly', 'Outstanding_Debt', 'Monthly_Balance'. These are caused by the extra '_' at the one of the end of their values.</li>\n",
        "  <li>There are some unclear value, such as:\n",
        "  <ol type = \"a\">\n",
        "    <li>'_' in 'Credit_Mix' column,</li>\n",
        "    <li>'!@9#%8' in 'Payment_Behaviour' column, and </li> <li>'NM' in  'Payment_of_Min_Amount' column</li>\n",
        "  </ol>\n",
        "  <li>Column 'Type_of_Loan' which contain multiple value, hence we will use feature engineering to handle it.</li>\n",
        "  <li>There are some columns contain missing value and outlier. These columns will be imputed using various techniques.</li>\n",
        "  <li>Target column is a bit imbalanced.</li>\n",
        "</ol>"
      ]
    },
    {
      "cell_type": "markdown",
      "metadata": {
        "id": "obWNNIetJ45c"
      },
      "source": [
        "### 4.2.2. Fixing Fault Input and Handling Missing Value"
      ]
    },
    {
      "cell_type": "code",
      "execution_count": null,
      "metadata": {
        "id": "b1HAPUyvdeja"
      },
      "outputs": [],
      "source": [
        "# Dropping unnecessary columns\n",
        "\n",
        "df_clean = df_train.drop(columns = ['ID', 'Name', 'Age', 'SSN'], axis = 1).copy()"
      ]
    },
    {
      "cell_type": "code",
      "execution_count": null,
      "metadata": {
        "colab": {
          "base_uri": "https://localhost:8080/"
        },
        "id": "A1oU17JHEaoX",
        "outputId": "f7c4e34b-9c4a-497f-e798-20bb98ffd131"
      },
      "outputs": [
        {
          "output_type": "stream",
          "name": "stdout",
          "text": [
            "Lawyer           7096\n",
            "Engineer         6864\n",
            "Architect        6824\n",
            "Mechanic         6776\n",
            "Scientist        6744\n",
            "Accountant       6744\n",
            "Developer        6720\n",
            "Media_Manager    6720\n",
            "Teacher          6672\n",
            "Entrepreneur     6648\n",
            "Doctor           6568\n",
            "Journalist       6536\n",
            "Manager          6432\n",
            "Musician         6352\n",
            "Writer           6304\n",
            "Name: Occupation, dtype: int64\n"
          ]
        },
        {
          "output_type": "execute_result",
          "data": {
            "text/plain": [
              "100000"
            ]
          },
          "metadata": {},
          "execution_count": 14
        }
      ],
      "source": [
        "# Cleaning 'Occupation' column from '_______' value\n",
        "\n",
        "df_clean['Occupation'].replace('_______', np.nan, inplace = True)\n",
        "\n",
        "# Fill missing values with the mode of each group\n",
        "df_clean['Occupation'] = df_clean.groupby('Customer_ID')['Occupation'].transform(lambda x: x.fillna(x.mode().iloc[0]))\n",
        "\n",
        "print(df_clean['Occupation'].value_counts())\n",
        "df_clean['Occupation'].value_counts().sum()"
      ]
    },
    {
      "cell_type": "code",
      "execution_count": null,
      "metadata": {
        "colab": {
          "base_uri": "https://localhost:8080/"
        },
        "id": "kyaohwyLI3iR",
        "outputId": "6d35bfb7-b602-497f-ec4c-829d407e9a7d"
      },
      "outputs": [
        {
          "output_type": "stream",
          "name": "stdout",
          "text": [
            "Low_spent_Small_value_payments      27767\n",
            "High_spent_Medium_value_payments    19366\n",
            "High_spent_Large_value_payments     15348\n",
            "Low_spent_Medium_value_payments     14621\n",
            "High_spent_Small_value_payments     11980\n",
            "Low_spent_Large_value_payments      10918\n",
            "Name: Payment_Behaviour, dtype: int64\n"
          ]
        },
        {
          "output_type": "execute_result",
          "data": {
            "text/plain": [
              "100000"
            ]
          },
          "metadata": {},
          "execution_count": 15
        }
      ],
      "source": [
        "# Cleaning 'Payment_Behaviour' column from '!@9#%8' value\n",
        "\n",
        "df_clean['Payment_Behaviour'].replace('!@9#%8', np.nan, inplace = True)\n",
        "\n",
        "# Fill missing values with the mode of each group\n",
        "df_clean['Payment_Behaviour'] = df_clean.groupby('Customer_ID')['Payment_Behaviour'].transform(lambda x: x.fillna(x.mode().iloc[0]))\n",
        "\n",
        "print(df_clean['Payment_Behaviour'].value_counts())\n",
        "df_clean['Payment_Behaviour'].value_counts().sum()"
      ]
    },
    {
      "cell_type": "code",
      "execution_count": null,
      "metadata": {
        "colab": {
          "base_uri": "https://localhost:8080/"
        },
        "id": "Lc8d7nwVJU5Y",
        "outputId": "e933cdd6-8437-4f13-d65d-056d5710e2cd"
      },
      "outputs": [
        {
          "output_type": "stream",
          "name": "stdout",
          "text": [
            "Standard    45848\n",
            "Good        30384\n",
            "Bad         23768\n",
            "Name: Credit_Mix, dtype: int64\n"
          ]
        },
        {
          "output_type": "execute_result",
          "data": {
            "text/plain": [
              "100000"
            ]
          },
          "metadata": {},
          "execution_count": 16
        }
      ],
      "source": [
        "# Cleaning 'Credit_Mix' column from '_' value\n",
        "\n",
        "df_clean['Credit_Mix'].replace('_', np.nan, inplace = True)\n",
        "\n",
        "# Fill missing values with the mode of each group\n",
        "df_clean['Credit_Mix'] = df_clean.groupby('Customer_ID')['Credit_Mix'].transform(lambda x: x.fillna(x.mode().iloc[0]))\n",
        "\n",
        "print(df_clean['Credit_Mix'].value_counts())\n",
        "df_clean['Credit_Mix'].value_counts().sum()"
      ]
    },
    {
      "cell_type": "code",
      "execution_count": null,
      "metadata": {
        "colab": {
          "base_uri": "https://localhost:8080/"
        },
        "id": "mMEwd1BmpJux",
        "outputId": "9ede74b1-e283-4b6e-c4a8-9f39b1b35be7"
      },
      "outputs": [
        {
          "output_type": "stream",
          "name": "stdout",
          "text": [
            "Yes    52326\n",
            "No     47674\n",
            "Name: Payment_of_Min_Amount, dtype: int64\n"
          ]
        },
        {
          "output_type": "execute_result",
          "data": {
            "text/plain": [
              "100000"
            ]
          },
          "metadata": {},
          "execution_count": 17
        }
      ],
      "source": [
        "# Replace 'NM' to 'No' in 'Payment_of_Min_Amount' column\n",
        "\n",
        "df_clean['Payment_of_Min_Amount'].replace('NM', 'No', inplace = True)\n",
        "\n",
        "print(df_clean['Payment_of_Min_Amount'].value_counts())\n",
        "df_clean['Payment_of_Min_Amount'].value_counts().sum()"
      ]
    },
    {
      "cell_type": "code",
      "execution_count": null,
      "metadata": {
        "id": "QB4Ni4wuQew3"
      },
      "outputs": [],
      "source": [
        "# Remove '_' from columns that should be numerical but are object instead\n",
        "# and convert these columns into numerical type\n",
        "\n",
        "d_col = ['Annual_Income',\n",
        "         'Num_of_Loan',\n",
        "         'Num_of_Delayed_Payment',\n",
        "         'Changed_Credit_Limit',\n",
        "         'Outstanding_Debt',\n",
        "         'Amount_invested_monthly',\n",
        "         'Monthly_Balance']\n",
        "\n",
        "for i in d_col:\n",
        "  df_clean[i] = df_clean[i].apply(\n",
        "      lambda x: x if x is np.nan or not isinstance(x, str)\n",
        "      else x.replace('_', '')).replace('', np.nan)\n",
        "  df_clean[i] = df_clean[i].astype(np.float64)"
      ]
    },
    {
      "cell_type": "code",
      "execution_count": null,
      "metadata": {
        "id": "vtup8tNLTP7P"
      },
      "outputs": [],
      "source": [
        "df_clean.describe().T"
      ]
    },
    {
      "cell_type": "code",
      "execution_count": null,
      "metadata": {
        "id": "5LhxX6ftVnUX"
      },
      "outputs": [],
      "source": [
        "# Columns like 'Num_Bank_Accounts', 'Delay_from_due_date',\n",
        "# 'Num_of_Delayed_Payment', 'Changed_Credit_Limit' have negative\n",
        "# value which logically imposible and may be caused by extra minus sign '-'\n",
        "# in the front. Based on this assumption, we can just take the absolute value\n",
        "# of each column\n",
        "\n",
        "abs_col = ['Num_Bank_Accounts',\n",
        "           'Delay_from_due_date',\n",
        "           'Num_of_Delayed_Payment',\n",
        "           'Changed_Credit_Limit'\n",
        "           ]\n",
        "\n",
        "for i in abs_col:\n",
        "  df_clean[i] = df_clean[i].abs()"
      ]
    },
    {
      "cell_type": "code",
      "source": [
        "# However, in case of 'Num_of_Loan' and 'Monthly_Balance' columns, some of the\n",
        "# value is unreasonably low and we have no choice but to remove it. The values\n",
        "# will be imputed in later process\n",
        "\n",
        "for i in ['Num_of_Loan', 'Monthly_Balance']:\n",
        "  df_clean.loc[df_clean[i] < 0, i] = np.nan"
      ],
      "metadata": {
        "id": "uheAsGC8EWsj"
      },
      "execution_count": null,
      "outputs": []
    },
    {
      "cell_type": "code",
      "execution_count": null,
      "metadata": {
        "id": "tfGH2w1UEhFf"
      },
      "outputs": [],
      "source": [
        "df_clean2 = df_clean.copy()"
      ]
    },
    {
      "cell_type": "code",
      "execution_count": null,
      "metadata": {
        "id": "Q3-shiUZ-PUB"
      },
      "outputs": [],
      "source": [
        "na_counts = df_clean2.groupby('Customer_ID')['Type_of_Loan'].apply(lambda x: x.isna().sum())\n",
        "df_clean2[df_clean2['Customer_ID'].isin(na_counts[na_counts == na_counts.max()].index)]"
      ]
    },
    {
      "cell_type": "code",
      "execution_count": null,
      "metadata": {
        "id": "kcSMxrCSi_aX"
      },
      "outputs": [],
      "source": [
        "df_clean2[df_clean2['Customer_ID'].isin(na_counts[na_counts == na_counts.max()].index)]['Num_of_Loan'].value_counts()"
      ]
    },
    {
      "cell_type": "code",
      "execution_count": null,
      "metadata": {
        "colab": {
          "base_uri": "https://localhost:8080/",
          "height": 644
        },
        "id": "GNemgjwjUNQQ",
        "outputId": "4d996075-a401-4f5f-9f4e-727ac72e416a"
      },
      "outputs": [
        {
          "output_type": "execute_result",
          "data": {
            "text/plain": [
              "      Customer_ID     Month Occupation  Annual_Income  Monthly_Inhand_Salary  \\\n",
              "32     CUS_0x1cdb   January  Developer       35547.71            2853.309167   \n",
              "33     CUS_0x1cdb  February  Developer       35547.71                    NaN   \n",
              "35     CUS_0x1cdb     April  Developer       35547.71            2853.309167   \n",
              "36     CUS_0x1cdb       May  Developer       35547.71            2853.309167   \n",
              "37     CUS_0x1cdb      June  Developer       35547.71                    NaN   \n",
              "...           ...       ...        ...            ...                    ...   \n",
              "99939  CUS_0xad4f     April  Developer       22620.79            1722.065833   \n",
              "99940  CUS_0xad4f       May  Developer       22620.79            1722.065833   \n",
              "99941  CUS_0xad4f      June  Developer       22620.79            1722.065833   \n",
              "99942  CUS_0xad4f      July  Developer       22620.79            1722.065833   \n",
              "99943  CUS_0xad4f    August  Developer       22620.79                    NaN   \n",
              "\n",
              "       Num_Bank_Accounts  Num_Credit_Card  Interest_Rate  Num_of_Loan  \\\n",
              "32                     7                5              5          0.0   \n",
              "33                     7                5              5          0.0   \n",
              "35                     7                5              5          0.0   \n",
              "36                     7                5              5          0.0   \n",
              "37                     7                5              5          0.0   \n",
              "...                  ...              ...            ...          ...   \n",
              "99939                  7                3              9          0.0   \n",
              "99940                  7                3              9          0.0   \n",
              "99941                  7                3              9          0.0   \n",
              "99942                  6                2              9          0.0   \n",
              "99943                  6                2              9          0.0   \n",
              "\n",
              "      Type_of_Loan  Delay_from_due_date  Num_of_Delayed_Payment  \\\n",
              "32             NaN                    5                     NaN   \n",
              "33             NaN                    9                     NaN   \n",
              "35             NaN                    1                    15.0   \n",
              "36             NaN                    9                    17.0   \n",
              "37             NaN                    5                    15.0   \n",
              "...            ...                  ...                     ...   \n",
              "99939          NaN                   27                    19.0   \n",
              "99940          NaN                   30                    18.0   \n",
              "99941          NaN                   27                    18.0   \n",
              "99942          NaN                   27                    17.0   \n",
              "99943          NaN                   27                    15.0   \n",
              "\n",
              "       Changed_Credit_Limit  Num_Credit_Inquiries Credit_Mix  \\\n",
              "32                     2.58                   4.0   Standard   \n",
              "33                     2.58                   4.0   Standard   \n",
              "35                     2.58                   4.0   Standard   \n",
              "36                     2.58                   4.0   Standard   \n",
              "37                     2.58                   4.0   Standard   \n",
              "...                     ...                   ...        ...   \n",
              "99939                  5.31                   2.0   Standard   \n",
              "99940                  4.31                   2.0   Standard   \n",
              "99941                  5.31                   2.0   Standard   \n",
              "99942                  1.31                   2.0   Standard   \n",
              "99943                  5.31                   2.0   Standard   \n",
              "\n",
              "       Outstanding_Debt  Credit_Utilization_Ratio      Credit_History_Age  \\\n",
              "32               943.86                 39.797764   30 Years and 8 Months   \n",
              "33               943.86                 27.020360   30 Years and 9 Months   \n",
              "35               943.86                 28.924954  30 Years and 11 Months   \n",
              "36               943.86                 41.776187   31 Years and 0 Months   \n",
              "37               943.86                 29.217556   31 Years and 1 Months   \n",
              "...                 ...                       ...                     ...   \n",
              "99939            642.46                 26.730863   29 Years and 6 Months   \n",
              "99940            642.46                 37.450793   29 Years and 7 Months   \n",
              "99941            642.46                 27.699504                     NaN   \n",
              "99942            642.46                 24.714779   29 Years and 9 Months   \n",
              "99943            642.46                 34.026427  29 Years and 10 Months   \n",
              "\n",
              "      Payment_of_Min_Amount  Total_EMI_per_month  Amount_invested_monthly  \\\n",
              "32                      Yes                  0.0               276.725394   \n",
              "33                       No                  0.0                74.443641   \n",
              "35                      Yes                  0.0                96.785485   \n",
              "36                      Yes                  0.0                62.723278   \n",
              "37                      Yes                  0.0                37.643638   \n",
              "...                     ...                  ...                      ...   \n",
              "99939                    No                  0.0               205.756074   \n",
              "99940                    No                  0.0               141.895743   \n",
              "99941                    No                  0.0               207.473456   \n",
              "99942                    No                  0.0                16.532189   \n",
              "99943                    No                  0.0               205.217280   \n",
              "\n",
              "                      Payment_Behaviour  Monthly_Balance Credit_Score  \n",
              "32     High_spent_Medium_value_payments       288.605522     Standard  \n",
              "33     High_spent_Medium_value_payments       460.887276     Standard  \n",
              "35     High_spent_Medium_value_payments       438.545432     Standard  \n",
              "36      High_spent_Small_value_payments       482.607638     Standard  \n",
              "37     High_spent_Medium_value_payments       497.687279     Standard  \n",
              "...                                 ...              ...          ...  \n",
              "99939    Low_spent_Small_value_payments       256.450509         Poor  \n",
              "99940    Low_spent_Large_value_payments       300.310840     Standard  \n",
              "99941    Low_spent_Small_value_payments       254.733128         Poor  \n",
              "99942   High_spent_Large_value_payments       395.674395         Poor  \n",
              "99943    Low_spent_Small_value_payments       256.989303         Poor  \n",
              "\n",
              "[10169 rows x 24 columns]"
            ],
            "text/html": [
              "\n",
              "  <div id=\"df-7d086678-b41d-4fb5-a12f-f293f5e808af\">\n",
              "    <div class=\"colab-df-container\">\n",
              "      <div>\n",
              "<style scoped>\n",
              "    .dataframe tbody tr th:only-of-type {\n",
              "        vertical-align: middle;\n",
              "    }\n",
              "\n",
              "    .dataframe tbody tr th {\n",
              "        vertical-align: top;\n",
              "    }\n",
              "\n",
              "    .dataframe thead th {\n",
              "        text-align: right;\n",
              "    }\n",
              "</style>\n",
              "<table border=\"1\" class=\"dataframe\">\n",
              "  <thead>\n",
              "    <tr style=\"text-align: right;\">\n",
              "      <th></th>\n",
              "      <th>Customer_ID</th>\n",
              "      <th>Month</th>\n",
              "      <th>Occupation</th>\n",
              "      <th>Annual_Income</th>\n",
              "      <th>Monthly_Inhand_Salary</th>\n",
              "      <th>Num_Bank_Accounts</th>\n",
              "      <th>Num_Credit_Card</th>\n",
              "      <th>Interest_Rate</th>\n",
              "      <th>Num_of_Loan</th>\n",
              "      <th>Type_of_Loan</th>\n",
              "      <th>Delay_from_due_date</th>\n",
              "      <th>Num_of_Delayed_Payment</th>\n",
              "      <th>Changed_Credit_Limit</th>\n",
              "      <th>Num_Credit_Inquiries</th>\n",
              "      <th>Credit_Mix</th>\n",
              "      <th>Outstanding_Debt</th>\n",
              "      <th>Credit_Utilization_Ratio</th>\n",
              "      <th>Credit_History_Age</th>\n",
              "      <th>Payment_of_Min_Amount</th>\n",
              "      <th>Total_EMI_per_month</th>\n",
              "      <th>Amount_invested_monthly</th>\n",
              "      <th>Payment_Behaviour</th>\n",
              "      <th>Monthly_Balance</th>\n",
              "      <th>Credit_Score</th>\n",
              "    </tr>\n",
              "  </thead>\n",
              "  <tbody>\n",
              "    <tr>\n",
              "      <th>32</th>\n",
              "      <td>CUS_0x1cdb</td>\n",
              "      <td>January</td>\n",
              "      <td>Developer</td>\n",
              "      <td>35547.71</td>\n",
              "      <td>2853.309167</td>\n",
              "      <td>7</td>\n",
              "      <td>5</td>\n",
              "      <td>5</td>\n",
              "      <td>0.0</td>\n",
              "      <td>NaN</td>\n",
              "      <td>5</td>\n",
              "      <td>NaN</td>\n",
              "      <td>2.58</td>\n",
              "      <td>4.0</td>\n",
              "      <td>Standard</td>\n",
              "      <td>943.86</td>\n",
              "      <td>39.797764</td>\n",
              "      <td>30 Years and 8 Months</td>\n",
              "      <td>Yes</td>\n",
              "      <td>0.0</td>\n",
              "      <td>276.725394</td>\n",
              "      <td>High_spent_Medium_value_payments</td>\n",
              "      <td>288.605522</td>\n",
              "      <td>Standard</td>\n",
              "    </tr>\n",
              "    <tr>\n",
              "      <th>33</th>\n",
              "      <td>CUS_0x1cdb</td>\n",
              "      <td>February</td>\n",
              "      <td>Developer</td>\n",
              "      <td>35547.71</td>\n",
              "      <td>NaN</td>\n",
              "      <td>7</td>\n",
              "      <td>5</td>\n",
              "      <td>5</td>\n",
              "      <td>0.0</td>\n",
              "      <td>NaN</td>\n",
              "      <td>9</td>\n",
              "      <td>NaN</td>\n",
              "      <td>2.58</td>\n",
              "      <td>4.0</td>\n",
              "      <td>Standard</td>\n",
              "      <td>943.86</td>\n",
              "      <td>27.020360</td>\n",
              "      <td>30 Years and 9 Months</td>\n",
              "      <td>No</td>\n",
              "      <td>0.0</td>\n",
              "      <td>74.443641</td>\n",
              "      <td>High_spent_Medium_value_payments</td>\n",
              "      <td>460.887276</td>\n",
              "      <td>Standard</td>\n",
              "    </tr>\n",
              "    <tr>\n",
              "      <th>35</th>\n",
              "      <td>CUS_0x1cdb</td>\n",
              "      <td>April</td>\n",
              "      <td>Developer</td>\n",
              "      <td>35547.71</td>\n",
              "      <td>2853.309167</td>\n",
              "      <td>7</td>\n",
              "      <td>5</td>\n",
              "      <td>5</td>\n",
              "      <td>0.0</td>\n",
              "      <td>NaN</td>\n",
              "      <td>1</td>\n",
              "      <td>15.0</td>\n",
              "      <td>2.58</td>\n",
              "      <td>4.0</td>\n",
              "      <td>Standard</td>\n",
              "      <td>943.86</td>\n",
              "      <td>28.924954</td>\n",
              "      <td>30 Years and 11 Months</td>\n",
              "      <td>Yes</td>\n",
              "      <td>0.0</td>\n",
              "      <td>96.785485</td>\n",
              "      <td>High_spent_Medium_value_payments</td>\n",
              "      <td>438.545432</td>\n",
              "      <td>Standard</td>\n",
              "    </tr>\n",
              "    <tr>\n",
              "      <th>36</th>\n",
              "      <td>CUS_0x1cdb</td>\n",
              "      <td>May</td>\n",
              "      <td>Developer</td>\n",
              "      <td>35547.71</td>\n",
              "      <td>2853.309167</td>\n",
              "      <td>7</td>\n",
              "      <td>5</td>\n",
              "      <td>5</td>\n",
              "      <td>0.0</td>\n",
              "      <td>NaN</td>\n",
              "      <td>9</td>\n",
              "      <td>17.0</td>\n",
              "      <td>2.58</td>\n",
              "      <td>4.0</td>\n",
              "      <td>Standard</td>\n",
              "      <td>943.86</td>\n",
              "      <td>41.776187</td>\n",
              "      <td>31 Years and 0 Months</td>\n",
              "      <td>Yes</td>\n",
              "      <td>0.0</td>\n",
              "      <td>62.723278</td>\n",
              "      <td>High_spent_Small_value_payments</td>\n",
              "      <td>482.607638</td>\n",
              "      <td>Standard</td>\n",
              "    </tr>\n",
              "    <tr>\n",
              "      <th>37</th>\n",
              "      <td>CUS_0x1cdb</td>\n",
              "      <td>June</td>\n",
              "      <td>Developer</td>\n",
              "      <td>35547.71</td>\n",
              "      <td>NaN</td>\n",
              "      <td>7</td>\n",
              "      <td>5</td>\n",
              "      <td>5</td>\n",
              "      <td>0.0</td>\n",
              "      <td>NaN</td>\n",
              "      <td>5</td>\n",
              "      <td>15.0</td>\n",
              "      <td>2.58</td>\n",
              "      <td>4.0</td>\n",
              "      <td>Standard</td>\n",
              "      <td>943.86</td>\n",
              "      <td>29.217556</td>\n",
              "      <td>31 Years and 1 Months</td>\n",
              "      <td>Yes</td>\n",
              "      <td>0.0</td>\n",
              "      <td>37.643638</td>\n",
              "      <td>High_spent_Medium_value_payments</td>\n",
              "      <td>497.687279</td>\n",
              "      <td>Standard</td>\n",
              "    </tr>\n",
              "    <tr>\n",
              "      <th>...</th>\n",
              "      <td>...</td>\n",
              "      <td>...</td>\n",
              "      <td>...</td>\n",
              "      <td>...</td>\n",
              "      <td>...</td>\n",
              "      <td>...</td>\n",
              "      <td>...</td>\n",
              "      <td>...</td>\n",
              "      <td>...</td>\n",
              "      <td>...</td>\n",
              "      <td>...</td>\n",
              "      <td>...</td>\n",
              "      <td>...</td>\n",
              "      <td>...</td>\n",
              "      <td>...</td>\n",
              "      <td>...</td>\n",
              "      <td>...</td>\n",
              "      <td>...</td>\n",
              "      <td>...</td>\n",
              "      <td>...</td>\n",
              "      <td>...</td>\n",
              "      <td>...</td>\n",
              "      <td>...</td>\n",
              "      <td>...</td>\n",
              "    </tr>\n",
              "    <tr>\n",
              "      <th>99939</th>\n",
              "      <td>CUS_0xad4f</td>\n",
              "      <td>April</td>\n",
              "      <td>Developer</td>\n",
              "      <td>22620.79</td>\n",
              "      <td>1722.065833</td>\n",
              "      <td>7</td>\n",
              "      <td>3</td>\n",
              "      <td>9</td>\n",
              "      <td>0.0</td>\n",
              "      <td>NaN</td>\n",
              "      <td>27</td>\n",
              "      <td>19.0</td>\n",
              "      <td>5.31</td>\n",
              "      <td>2.0</td>\n",
              "      <td>Standard</td>\n",
              "      <td>642.46</td>\n",
              "      <td>26.730863</td>\n",
              "      <td>29 Years and 6 Months</td>\n",
              "      <td>No</td>\n",
              "      <td>0.0</td>\n",
              "      <td>205.756074</td>\n",
              "      <td>Low_spent_Small_value_payments</td>\n",
              "      <td>256.450509</td>\n",
              "      <td>Poor</td>\n",
              "    </tr>\n",
              "    <tr>\n",
              "      <th>99940</th>\n",
              "      <td>CUS_0xad4f</td>\n",
              "      <td>May</td>\n",
              "      <td>Developer</td>\n",
              "      <td>22620.79</td>\n",
              "      <td>1722.065833</td>\n",
              "      <td>7</td>\n",
              "      <td>3</td>\n",
              "      <td>9</td>\n",
              "      <td>0.0</td>\n",
              "      <td>NaN</td>\n",
              "      <td>30</td>\n",
              "      <td>18.0</td>\n",
              "      <td>4.31</td>\n",
              "      <td>2.0</td>\n",
              "      <td>Standard</td>\n",
              "      <td>642.46</td>\n",
              "      <td>37.450793</td>\n",
              "      <td>29 Years and 7 Months</td>\n",
              "      <td>No</td>\n",
              "      <td>0.0</td>\n",
              "      <td>141.895743</td>\n",
              "      <td>Low_spent_Large_value_payments</td>\n",
              "      <td>300.310840</td>\n",
              "      <td>Standard</td>\n",
              "    </tr>\n",
              "    <tr>\n",
              "      <th>99941</th>\n",
              "      <td>CUS_0xad4f</td>\n",
              "      <td>June</td>\n",
              "      <td>Developer</td>\n",
              "      <td>22620.79</td>\n",
              "      <td>1722.065833</td>\n",
              "      <td>7</td>\n",
              "      <td>3</td>\n",
              "      <td>9</td>\n",
              "      <td>0.0</td>\n",
              "      <td>NaN</td>\n",
              "      <td>27</td>\n",
              "      <td>18.0</td>\n",
              "      <td>5.31</td>\n",
              "      <td>2.0</td>\n",
              "      <td>Standard</td>\n",
              "      <td>642.46</td>\n",
              "      <td>27.699504</td>\n",
              "      <td>NaN</td>\n",
              "      <td>No</td>\n",
              "      <td>0.0</td>\n",
              "      <td>207.473456</td>\n",
              "      <td>Low_spent_Small_value_payments</td>\n",
              "      <td>254.733128</td>\n",
              "      <td>Poor</td>\n",
              "    </tr>\n",
              "    <tr>\n",
              "      <th>99942</th>\n",
              "      <td>CUS_0xad4f</td>\n",
              "      <td>July</td>\n",
              "      <td>Developer</td>\n",
              "      <td>22620.79</td>\n",
              "      <td>1722.065833</td>\n",
              "      <td>6</td>\n",
              "      <td>2</td>\n",
              "      <td>9</td>\n",
              "      <td>0.0</td>\n",
              "      <td>NaN</td>\n",
              "      <td>27</td>\n",
              "      <td>17.0</td>\n",
              "      <td>1.31</td>\n",
              "      <td>2.0</td>\n",
              "      <td>Standard</td>\n",
              "      <td>642.46</td>\n",
              "      <td>24.714779</td>\n",
              "      <td>29 Years and 9 Months</td>\n",
              "      <td>No</td>\n",
              "      <td>0.0</td>\n",
              "      <td>16.532189</td>\n",
              "      <td>High_spent_Large_value_payments</td>\n",
              "      <td>395.674395</td>\n",
              "      <td>Poor</td>\n",
              "    </tr>\n",
              "    <tr>\n",
              "      <th>99943</th>\n",
              "      <td>CUS_0xad4f</td>\n",
              "      <td>August</td>\n",
              "      <td>Developer</td>\n",
              "      <td>22620.79</td>\n",
              "      <td>NaN</td>\n",
              "      <td>6</td>\n",
              "      <td>2</td>\n",
              "      <td>9</td>\n",
              "      <td>0.0</td>\n",
              "      <td>NaN</td>\n",
              "      <td>27</td>\n",
              "      <td>15.0</td>\n",
              "      <td>5.31</td>\n",
              "      <td>2.0</td>\n",
              "      <td>Standard</td>\n",
              "      <td>642.46</td>\n",
              "      <td>34.026427</td>\n",
              "      <td>29 Years and 10 Months</td>\n",
              "      <td>No</td>\n",
              "      <td>0.0</td>\n",
              "      <td>205.217280</td>\n",
              "      <td>Low_spent_Small_value_payments</td>\n",
              "      <td>256.989303</td>\n",
              "      <td>Poor</td>\n",
              "    </tr>\n",
              "  </tbody>\n",
              "</table>\n",
              "<p>10169 rows × 24 columns</p>\n",
              "</div>\n",
              "      <button class=\"colab-df-convert\" onclick=\"convertToInteractive('df-7d086678-b41d-4fb5-a12f-f293f5e808af')\"\n",
              "              title=\"Convert this dataframe to an interactive table.\"\n",
              "              style=\"display:none;\">\n",
              "        \n",
              "  <svg xmlns=\"http://www.w3.org/2000/svg\" height=\"24px\"viewBox=\"0 0 24 24\"\n",
              "       width=\"24px\">\n",
              "    <path d=\"M0 0h24v24H0V0z\" fill=\"none\"/>\n",
              "    <path d=\"M18.56 5.44l.94 2.06.94-2.06 2.06-.94-2.06-.94-.94-2.06-.94 2.06-2.06.94zm-11 1L8.5 8.5l.94-2.06 2.06-.94-2.06-.94L8.5 2.5l-.94 2.06-2.06.94zm10 10l.94 2.06.94-2.06 2.06-.94-2.06-.94-.94-2.06-.94 2.06-2.06.94z\"/><path d=\"M17.41 7.96l-1.37-1.37c-.4-.4-.92-.59-1.43-.59-.52 0-1.04.2-1.43.59L10.3 9.45l-7.72 7.72c-.78.78-.78 2.05 0 2.83L4 21.41c.39.39.9.59 1.41.59.51 0 1.02-.2 1.41-.59l7.78-7.78 2.81-2.81c.8-.78.8-2.07 0-2.86zM5.41 20L4 18.59l7.72-7.72 1.47 1.35L5.41 20z\"/>\n",
              "  </svg>\n",
              "      </button>\n",
              "      \n",
              "  <style>\n",
              "    .colab-df-container {\n",
              "      display:flex;\n",
              "      flex-wrap:wrap;\n",
              "      gap: 12px;\n",
              "    }\n",
              "\n",
              "    .colab-df-convert {\n",
              "      background-color: #E8F0FE;\n",
              "      border: none;\n",
              "      border-radius: 50%;\n",
              "      cursor: pointer;\n",
              "      display: none;\n",
              "      fill: #1967D2;\n",
              "      height: 32px;\n",
              "      padding: 0 0 0 0;\n",
              "      width: 32px;\n",
              "    }\n",
              "\n",
              "    .colab-df-convert:hover {\n",
              "      background-color: #E2EBFA;\n",
              "      box-shadow: 0px 1px 2px rgba(60, 64, 67, 0.3), 0px 1px 3px 1px rgba(60, 64, 67, 0.15);\n",
              "      fill: #174EA6;\n",
              "    }\n",
              "\n",
              "    [theme=dark] .colab-df-convert {\n",
              "      background-color: #3B4455;\n",
              "      fill: #D2E3FC;\n",
              "    }\n",
              "\n",
              "    [theme=dark] .colab-df-convert:hover {\n",
              "      background-color: #434B5C;\n",
              "      box-shadow: 0px 1px 3px 1px rgba(0, 0, 0, 0.15);\n",
              "      filter: drop-shadow(0px 1px 2px rgba(0, 0, 0, 0.3));\n",
              "      fill: #FFFFFF;\n",
              "    }\n",
              "  </style>\n",
              "\n",
              "      <script>\n",
              "        const buttonEl =\n",
              "          document.querySelector('#df-7d086678-b41d-4fb5-a12f-f293f5e808af button.colab-df-convert');\n",
              "        buttonEl.style.display =\n",
              "          google.colab.kernel.accessAllowed ? 'block' : 'none';\n",
              "\n",
              "        async function convertToInteractive(key) {\n",
              "          const element = document.querySelector('#df-7d086678-b41d-4fb5-a12f-f293f5e808af');\n",
              "          const dataTable =\n",
              "            await google.colab.kernel.invokeFunction('convertToInteractive',\n",
              "                                                     [key], {});\n",
              "          if (!dataTable) return;\n",
              "\n",
              "          const docLinkHtml = 'Like what you see? Visit the ' +\n",
              "            '<a target=\"_blank\" href=https://colab.research.google.com/notebooks/data_table.ipynb>data table notebook</a>'\n",
              "            + ' to learn more about interactive tables.';\n",
              "          element.innerHTML = '';\n",
              "          dataTable['output_type'] = 'display_data';\n",
              "          await google.colab.output.renderOutput(dataTable, element);\n",
              "          const docLink = document.createElement('div');\n",
              "          docLink.innerHTML = docLinkHtml;\n",
              "          element.appendChild(docLink);\n",
              "        }\n",
              "      </script>\n",
              "    </div>\n",
              "  </div>\n",
              "  "
            ]
          },
          "metadata": {},
          "execution_count": 25
        }
      ],
      "source": [
        "df_clean2[(df_clean2['Num_of_Loan'] == 0) & (df_clean2['Total_EMI_per_month'] == 0)]"
      ]
    },
    {
      "cell_type": "markdown",
      "metadata": {
        "id": "A1_k6nGI6Ci1"
      },
      "source": [
        "It seems that all na value in 'Type_of_Loan' is because the number of loan the customer has at that month is 0. Also, it seems that there is a lot of outlier in 'Num_of_Loan' column because it doesn't make any sense to have\n",
        "hundreds or thousands of loan. It also seems that 0 value of 'Total_EMI_per_month' column is majorly caused by the same reason."
      ]
    },
    {
      "cell_type": "markdown",
      "metadata": {
        "id": "UUnzLlozz1P6"
      },
      "source": [
        "### 4.2.3. Clean Outlier"
      ]
    },
    {
      "cell_type": "code",
      "execution_count": null,
      "metadata": {
        "colab": {
          "base_uri": "https://localhost:8080/"
        },
        "id": "18BHmlYem-Te",
        "outputId": "39af422b-8827-4968-e2f7-cf973c6f29d9"
      },
      "outputs": [
        {
          "output_type": "stream",
          "name": "stdout",
          "text": [
            "Looking in indexes: https://pypi.org/simple, https://us-python.pkg.dev/colab-wheels/public/simple/\n",
            "Collecting datasist\n",
            "  Downloading datasist-1.5.3-py3-none-any.whl (33 kB)\n",
            "Requirement already satisfied: pandas in /usr/local/lib/python3.10/dist-packages (from datasist) (1.5.3)\n",
            "Requirement already satisfied: matplotlib in /usr/local/lib/python3.10/dist-packages (from datasist) (3.7.1)\n",
            "Requirement already satisfied: seaborn in /usr/local/lib/python3.10/dist-packages (from datasist) (0.12.2)\n",
            "Requirement already satisfied: numpy in /usr/local/lib/python3.10/dist-packages (from datasist) (1.22.4)\n",
            "Collecting jupyter (from datasist)\n",
            "  Downloading jupyter-1.0.0-py2.py3-none-any.whl (2.7 kB)\n",
            "Requirement already satisfied: scikit-learn in /usr/local/lib/python3.10/dist-packages (from datasist) (1.2.2)\n",
            "Requirement already satisfied: nltk in /usr/local/lib/python3.10/dist-packages (from datasist) (3.8.1)\n",
            "Requirement already satisfied: Joblib in /usr/local/lib/python3.10/dist-packages (from datasist) (1.2.0)\n",
            "Requirement already satisfied: notebook in /usr/local/lib/python3.10/dist-packages (from jupyter->datasist) (6.4.8)\n",
            "Collecting qtconsole (from jupyter->datasist)\n",
            "  Downloading qtconsole-5.4.3-py3-none-any.whl (121 kB)\n",
            "\u001b[2K     \u001b[90m━━━━━━━━━━━━━━━━━━━━━━━━━━━━━━━━━━━━━━━\u001b[0m \u001b[32m121.9/121.9 kB\u001b[0m \u001b[31m9.3 MB/s\u001b[0m eta \u001b[36m0:00:00\u001b[0m\n",
            "\u001b[?25hRequirement already satisfied: jupyter-console in /usr/local/lib/python3.10/dist-packages (from jupyter->datasist) (6.1.0)\n",
            "Requirement already satisfied: nbconvert in /usr/local/lib/python3.10/dist-packages (from jupyter->datasist) (6.5.4)\n",
            "Requirement already satisfied: ipykernel in /usr/local/lib/python3.10/dist-packages (from jupyter->datasist) (5.5.6)\n",
            "Requirement already satisfied: ipywidgets in /usr/local/lib/python3.10/dist-packages (from jupyter->datasist) (7.7.1)\n",
            "Requirement already satisfied: contourpy>=1.0.1 in /usr/local/lib/python3.10/dist-packages (from matplotlib->datasist) (1.0.7)\n",
            "Requirement already satisfied: cycler>=0.10 in /usr/local/lib/python3.10/dist-packages (from matplotlib->datasist) (0.11.0)\n",
            "Requirement already satisfied: fonttools>=4.22.0 in /usr/local/lib/python3.10/dist-packages (from matplotlib->datasist) (4.39.3)\n",
            "Requirement already satisfied: kiwisolver>=1.0.1 in /usr/local/lib/python3.10/dist-packages (from matplotlib->datasist) (1.4.4)\n",
            "Requirement already satisfied: packaging>=20.0 in /usr/local/lib/python3.10/dist-packages (from matplotlib->datasist) (23.1)\n",
            "Requirement already satisfied: pillow>=6.2.0 in /usr/local/lib/python3.10/dist-packages (from matplotlib->datasist) (8.4.0)\n",
            "Requirement already satisfied: pyparsing>=2.3.1 in /usr/local/lib/python3.10/dist-packages (from matplotlib->datasist) (3.0.9)\n",
            "Requirement already satisfied: python-dateutil>=2.7 in /usr/local/lib/python3.10/dist-packages (from matplotlib->datasist) (2.8.2)\n",
            "Requirement already satisfied: click in /usr/local/lib/python3.10/dist-packages (from nltk->datasist) (8.1.3)\n",
            "Requirement already satisfied: regex>=2021.8.3 in /usr/local/lib/python3.10/dist-packages (from nltk->datasist) (2022.10.31)\n",
            "Requirement already satisfied: tqdm in /usr/local/lib/python3.10/dist-packages (from nltk->datasist) (4.65.0)\n",
            "Requirement already satisfied: pytz>=2020.1 in /usr/local/lib/python3.10/dist-packages (from pandas->datasist) (2022.7.1)\n",
            "Requirement already satisfied: scipy>=1.3.2 in /usr/local/lib/python3.10/dist-packages (from scikit-learn->datasist) (1.10.1)\n",
            "Requirement already satisfied: threadpoolctl>=2.0.0 in /usr/local/lib/python3.10/dist-packages (from scikit-learn->datasist) (3.1.0)\n",
            "Requirement already satisfied: six>=1.5 in /usr/local/lib/python3.10/dist-packages (from python-dateutil>=2.7->matplotlib->datasist) (1.16.0)\n",
            "Requirement already satisfied: ipython-genutils in /usr/local/lib/python3.10/dist-packages (from ipykernel->jupyter->datasist) (0.2.0)\n",
            "Requirement already satisfied: ipython>=5.0.0 in /usr/local/lib/python3.10/dist-packages (from ipykernel->jupyter->datasist) (7.34.0)\n",
            "Requirement already satisfied: traitlets>=4.1.0 in /usr/local/lib/python3.10/dist-packages (from ipykernel->jupyter->datasist) (5.7.1)\n",
            "Requirement already satisfied: jupyter-client in /usr/local/lib/python3.10/dist-packages (from ipykernel->jupyter->datasist) (6.1.12)\n",
            "Requirement already satisfied: tornado>=4.2 in /usr/local/lib/python3.10/dist-packages (from ipykernel->jupyter->datasist) (6.3.1)\n",
            "Requirement already satisfied: widgetsnbextension~=3.6.0 in /usr/local/lib/python3.10/dist-packages (from ipywidgets->jupyter->datasist) (3.6.4)\n",
            "Requirement already satisfied: jupyterlab-widgets>=1.0.0 in /usr/local/lib/python3.10/dist-packages (from ipywidgets->jupyter->datasist) (3.0.7)\n",
            "Requirement already satisfied: prompt-toolkit!=3.0.0,!=3.0.1,<3.1.0,>=2.0.0 in /usr/local/lib/python3.10/dist-packages (from jupyter-console->jupyter->datasist) (3.0.38)\n",
            "Requirement already satisfied: pygments in /usr/local/lib/python3.10/dist-packages (from jupyter-console->jupyter->datasist) (2.14.0)\n",
            "Requirement already satisfied: lxml in /usr/local/lib/python3.10/dist-packages (from nbconvert->jupyter->datasist) (4.9.2)\n",
            "Requirement already satisfied: beautifulsoup4 in /usr/local/lib/python3.10/dist-packages (from nbconvert->jupyter->datasist) (4.11.2)\n",
            "Requirement already satisfied: bleach in /usr/local/lib/python3.10/dist-packages (from nbconvert->jupyter->datasist) (6.0.0)\n",
            "Requirement already satisfied: defusedxml in /usr/local/lib/python3.10/dist-packages (from nbconvert->jupyter->datasist) (0.7.1)\n",
            "Requirement already satisfied: entrypoints>=0.2.2 in /usr/local/lib/python3.10/dist-packages (from nbconvert->jupyter->datasist) (0.4)\n",
            "Requirement already satisfied: jinja2>=3.0 in /usr/local/lib/python3.10/dist-packages (from nbconvert->jupyter->datasist) (3.1.2)\n",
            "Requirement already satisfied: jupyter-core>=4.7 in /usr/local/lib/python3.10/dist-packages (from nbconvert->jupyter->datasist) (5.3.0)\n",
            "Requirement already satisfied: jupyterlab-pygments in /usr/local/lib/python3.10/dist-packages (from nbconvert->jupyter->datasist) (0.2.2)\n",
            "Requirement already satisfied: MarkupSafe>=2.0 in /usr/local/lib/python3.10/dist-packages (from nbconvert->jupyter->datasist) (2.1.2)\n",
            "Requirement already satisfied: mistune<2,>=0.8.1 in /usr/local/lib/python3.10/dist-packages (from nbconvert->jupyter->datasist) (0.8.4)\n",
            "Requirement already satisfied: nbclient>=0.5.0 in /usr/local/lib/python3.10/dist-packages (from nbconvert->jupyter->datasist) (0.7.4)\n",
            "Requirement already satisfied: nbformat>=5.1 in /usr/local/lib/python3.10/dist-packages (from nbconvert->jupyter->datasist) (5.8.0)\n",
            "Requirement already satisfied: pandocfilters>=1.4.1 in /usr/local/lib/python3.10/dist-packages (from nbconvert->jupyter->datasist) (1.5.0)\n",
            "Requirement already satisfied: tinycss2 in /usr/local/lib/python3.10/dist-packages (from nbconvert->jupyter->datasist) (1.2.1)\n",
            "Requirement already satisfied: pyzmq>=17 in /usr/local/lib/python3.10/dist-packages (from notebook->jupyter->datasist) (23.2.1)\n",
            "Requirement already satisfied: argon2-cffi in /usr/local/lib/python3.10/dist-packages (from notebook->jupyter->datasist) (21.3.0)\n",
            "Requirement already satisfied: nest-asyncio>=1.5 in /usr/local/lib/python3.10/dist-packages (from notebook->jupyter->datasist) (1.5.6)\n",
            "Requirement already satisfied: Send2Trash>=1.8.0 in /usr/local/lib/python3.10/dist-packages (from notebook->jupyter->datasist) (1.8.0)\n",
            "Requirement already satisfied: terminado>=0.8.3 in /usr/local/lib/python3.10/dist-packages (from notebook->jupyter->datasist) (0.17.1)\n",
            "Requirement already satisfied: prometheus-client in /usr/local/lib/python3.10/dist-packages (from notebook->jupyter->datasist) (0.16.0)\n",
            "Collecting qtpy>=2.0.1 (from qtconsole->jupyter->datasist)\n",
            "  Downloading QtPy-2.3.1-py3-none-any.whl (84 kB)\n",
            "\u001b[2K     \u001b[90m━━━━━━━━━━━━━━━━━━━━━━━━━━━━━━━━━━━━━━━━\u001b[0m \u001b[32m84.9/84.9 kB\u001b[0m \u001b[31m9.9 MB/s\u001b[0m eta \u001b[36m0:00:00\u001b[0m\n",
            "\u001b[?25hRequirement already satisfied: setuptools>=18.5 in /usr/local/lib/python3.10/dist-packages (from ipython>=5.0.0->ipykernel->jupyter->datasist) (67.7.2)\n",
            "Collecting jedi>=0.16 (from ipython>=5.0.0->ipykernel->jupyter->datasist)\n",
            "  Downloading jedi-0.18.2-py2.py3-none-any.whl (1.6 MB)\n",
            "\u001b[2K     \u001b[90m━━━━━━━━━━━━━━━━━━━━━━━━━━━━━━━━━━━━━━━━\u001b[0m \u001b[32m1.6/1.6 MB\u001b[0m \u001b[31m69.0 MB/s\u001b[0m eta \u001b[36m0:00:00\u001b[0m\n",
            "\u001b[?25hRequirement already satisfied: decorator in /usr/local/lib/python3.10/dist-packages (from ipython>=5.0.0->ipykernel->jupyter->datasist) (4.4.2)\n",
            "Requirement already satisfied: pickleshare in /usr/local/lib/python3.10/dist-packages (from ipython>=5.0.0->ipykernel->jupyter->datasist) (0.7.5)\n",
            "Requirement already satisfied: backcall in /usr/local/lib/python3.10/dist-packages (from ipython>=5.0.0->ipykernel->jupyter->datasist) (0.2.0)\n",
            "Requirement already satisfied: matplotlib-inline in /usr/local/lib/python3.10/dist-packages (from ipython>=5.0.0->ipykernel->jupyter->datasist) (0.1.6)\n",
            "Requirement already satisfied: pexpect>4.3 in /usr/local/lib/python3.10/dist-packages (from ipython>=5.0.0->ipykernel->jupyter->datasist) (4.8.0)\n",
            "Requirement already satisfied: platformdirs>=2.5 in /usr/local/lib/python3.10/dist-packages (from jupyter-core>=4.7->nbconvert->jupyter->datasist) (3.3.0)\n",
            "Requirement already satisfied: fastjsonschema in /usr/local/lib/python3.10/dist-packages (from nbformat>=5.1->nbconvert->jupyter->datasist) (2.16.3)\n",
            "Requirement already satisfied: jsonschema>=2.6 in /usr/local/lib/python3.10/dist-packages (from nbformat>=5.1->nbconvert->jupyter->datasist) (4.3.3)\n",
            "Requirement already satisfied: wcwidth in /usr/local/lib/python3.10/dist-packages (from prompt-toolkit!=3.0.0,!=3.0.1,<3.1.0,>=2.0.0->jupyter-console->jupyter->datasist) (0.2.6)\n",
            "Requirement already satisfied: ptyprocess in /usr/local/lib/python3.10/dist-packages (from terminado>=0.8.3->notebook->jupyter->datasist) (0.7.0)\n",
            "Requirement already satisfied: argon2-cffi-bindings in /usr/local/lib/python3.10/dist-packages (from argon2-cffi->notebook->jupyter->datasist) (21.2.0)\n",
            "Requirement already satisfied: soupsieve>1.2 in /usr/local/lib/python3.10/dist-packages (from beautifulsoup4->nbconvert->jupyter->datasist) (2.4.1)\n",
            "Requirement already satisfied: webencodings in /usr/local/lib/python3.10/dist-packages (from bleach->nbconvert->jupyter->datasist) (0.5.1)\n",
            "Requirement already satisfied: parso<0.9.0,>=0.8.0 in /usr/local/lib/python3.10/dist-packages (from jedi>=0.16->ipython>=5.0.0->ipykernel->jupyter->datasist) (0.8.3)\n",
            "Requirement already satisfied: attrs>=17.4.0 in /usr/local/lib/python3.10/dist-packages (from jsonschema>=2.6->nbformat>=5.1->nbconvert->jupyter->datasist) (23.1.0)\n",
            "Requirement already satisfied: pyrsistent!=0.17.0,!=0.17.1,!=0.17.2,>=0.14.0 in /usr/local/lib/python3.10/dist-packages (from jsonschema>=2.6->nbformat>=5.1->nbconvert->jupyter->datasist) (0.19.3)\n",
            "Requirement already satisfied: cffi>=1.0.1 in /usr/local/lib/python3.10/dist-packages (from argon2-cffi-bindings->argon2-cffi->notebook->jupyter->datasist) (1.15.1)\n",
            "Requirement already satisfied: pycparser in /usr/local/lib/python3.10/dist-packages (from cffi>=1.0.1->argon2-cffi-bindings->argon2-cffi->notebook->jupyter->datasist) (2.21)\n",
            "Installing collected packages: qtpy, jedi, qtconsole, jupyter, datasist\n",
            "Successfully installed datasist-1.5.3 jedi-0.18.2 jupyter-1.0.0 qtconsole-5.4.3 qtpy-2.3.1\n"
          ]
        }
      ],
      "source": [
        "!pip install datasist"
      ]
    },
    {
      "cell_type": "code",
      "execution_count": null,
      "metadata": {
        "id": "YHO9jXsxMxSQ"
      },
      "outputs": [],
      "source": [
        "from datasist.structdata import detect_outliers\n",
        "\n",
        "df_clean3 = df_clean2.copy()\n",
        "\n",
        "d_col2 = ['Num_Bank_Accounts',\n",
        "          'Num_Credit_Card',\n",
        "          'Interest_Rate',\n",
        "          'Num_of_Loan',\n",
        "          'Num_of_Delayed_Payment',\n",
        "          'Num_Credit_Inquiries',\n",
        "          'Total_EMI_per_month',]\n",
        "\n",
        "cstmr_list = df_clean3['Customer_ID'].unique()\n",
        "\n",
        "for i in d_col2:\n",
        "  outr1 = detect_outliers(df_clean3, 0, [i])\n",
        "  outr2 = []\n",
        "  for j in cstmr_list:\n",
        "    outr2.extend(detect_outliers(df_clean3[df_clean3['Customer_ID'] == j], 0, [i]))\n",
        "  outr = list(set(outr1) & set(outr2))\n",
        "  df_clean3.loc[outr, i] = np.nan\n",
        "\n",
        "  df_clean3[i] = df_clean3.groupby('Customer_ID')[i].transform('median')"
      ]
    },
    {
      "cell_type": "code",
      "execution_count": null,
      "metadata": {
        "id": "ek6ZX8uWJCSz"
      },
      "outputs": [],
      "source": [
        "df_clean4 = df_clean3.copy()"
      ]
    },
    {
      "cell_type": "code",
      "execution_count": null,
      "metadata": {
        "id": "eCGhadTZIVqN"
      },
      "outputs": [],
      "source": [
        "df_clean4.loc[df_clean4['Amount_invested_monthly'] == 10000, 'Amount_invested_monthly'] = np.nan\n",
        "\n",
        "d_col3 = ['Monthly_Inhand_Salary',\n",
        "          'Num_of_Loan',\n",
        "          'Changed_Credit_Limit',\n",
        "          'Amount_invested_monthly',\n",
        "          'Monthly_Balance']\n",
        "\n",
        "for i in d_col3:\n",
        "  df_clean4[i] = df_clean4.groupby('Customer_ID')[i].transform(lambda x: x.interpolate(method = 'linear', limit_direction = 'both'))"
      ]
    },
    {
      "cell_type": "code",
      "execution_count": null,
      "metadata": {
        "id": "o_bmW5WbpDe8"
      },
      "outputs": [],
      "source": [
        "i = 'Credit_History_Age'\n",
        "che = df_clean4[i].str.split(' ')\n",
        "df_clean4[i] = che.apply(lambda x: x if x is np.nan else int(x[0]) * 12 + int(x[3]))\n",
        "df_clean4[i] = df_clean4.groupby('Customer_ID')[i].transform(lambda x: x.interpolate(method = 'linear', limit_area = 'inside'))"
      ]
    },
    {
      "cell_type": "code",
      "execution_count": null,
      "metadata": {
        "id": "VoBhyEDyn9E1",
        "colab": {
          "base_uri": "https://localhost:8080/"
        },
        "outputId": "f845e49a-d388-4fce-ee4e-28175929ca7a"
      },
      "outputs": [
        {
          "output_type": "execute_result",
          "data": {
            "text/plain": [
              "August      1120\n",
              "January     1113\n",
              "July          99\n",
              "February     107\n",
              "June           8\n",
              "March          9\n",
              "April          1\n",
              "Name: Month, dtype: int64"
            ]
          },
          "metadata": {},
          "execution_count": 31
        }
      ],
      "source": [
        "df_clean4[df_clean4['Credit_History_Age'].isnull()]['Month'].value_counts(sort = False)"
      ]
    },
    {
      "cell_type": "code",
      "execution_count": null,
      "metadata": {
        "id": "DJvFas3gvpAf"
      },
      "outputs": [],
      "source": [
        "df_clean5 = df_clean4.copy()"
      ]
    },
    {
      "cell_type": "code",
      "execution_count": null,
      "metadata": {
        "id": "-tdmj1uPo9JN"
      },
      "outputs": [],
      "source": [
        "# It seems that we can use 'May' as our base to impute the 'Credit_History_Age'\n",
        "for i in range(8):\n",
        "  if i == 4:\n",
        "    continue\n",
        "  df_clean5.loc[df_clean5.index % 8 == i, 'Credit_History_Age'] = df_clean5.loc[df_clean5.index % 8 == 4, 'Credit_History_Age'].values - (4-i)"
      ]
    },
    {
      "cell_type": "code",
      "execution_count": null,
      "metadata": {
        "id": "0Djp41Bx5Xdk"
      },
      "outputs": [],
      "source": [
        "# Final cleaning\n",
        "df_clean5.drop(['Month', 'Customer_ID'], axis = 1, inplace = True)\n",
        "\n",
        "d_col4 = ['Num_Bank_Accounts',\n",
        "          'Num_Credit_Card',\n",
        "          'Num_of_Loan',\n",
        "          'Credit_History_Age']\n",
        "\n",
        "for i in d_col4:\n",
        "  df_clean5[i] = df_clean5[i].astype('int64')"
      ]
    },
    {
      "cell_type": "code",
      "execution_count": null,
      "metadata": {
        "id": "ozPWZeUt7ENc",
        "colab": {
          "base_uri": "https://localhost:8080/"
        },
        "outputId": "80dc0dfe-c847-4247-af95-6281c07027d0"
      },
      "outputs": [
        {
          "output_type": "stream",
          "name": "stdout",
          "text": [
            "<class 'pandas.core.frame.DataFrame'>\n",
            "RangeIndex: 100000 entries, 0 to 99999\n",
            "Data columns (total 22 columns):\n",
            " #   Column                    Non-Null Count   Dtype  \n",
            "---  ------                    --------------   -----  \n",
            " 0   Occupation                100000 non-null  object \n",
            " 1   Annual_Income             100000 non-null  float64\n",
            " 2   Monthly_Inhand_Salary     100000 non-null  float64\n",
            " 3   Num_Bank_Accounts         100000 non-null  int64  \n",
            " 4   Num_Credit_Card           100000 non-null  int64  \n",
            " 5   Interest_Rate             100000 non-null  float64\n",
            " 6   Num_of_Loan               100000 non-null  int64  \n",
            " 7   Type_of_Loan              88592 non-null   object \n",
            " 8   Delay_from_due_date       100000 non-null  int64  \n",
            " 9   Num_of_Delayed_Payment    100000 non-null  float64\n",
            " 10  Changed_Credit_Limit      100000 non-null  float64\n",
            " 11  Num_Credit_Inquiries      100000 non-null  float64\n",
            " 12  Credit_Mix                100000 non-null  object \n",
            " 13  Outstanding_Debt          100000 non-null  float64\n",
            " 14  Credit_Utilization_Ratio  100000 non-null  float64\n",
            " 15  Credit_History_Age        100000 non-null  int64  \n",
            " 16  Payment_of_Min_Amount     100000 non-null  object \n",
            " 17  Total_EMI_per_month       100000 non-null  float64\n",
            " 18  Amount_invested_monthly   100000 non-null  float64\n",
            " 19  Payment_Behaviour         100000 non-null  object \n",
            " 20  Monthly_Balance           100000 non-null  float64\n",
            " 21  Credit_Score              100000 non-null  object \n",
            "dtypes: float64(11), int64(5), object(6)\n",
            "memory usage: 16.8+ MB\n"
          ]
        }
      ],
      "source": [
        "df_clean5.info()"
      ]
    },
    {
      "cell_type": "markdown",
      "metadata": {
        "id": "VCkps30IR3vz"
      },
      "source": [
        "## 4.3. Feature Engineering"
      ]
    },
    {
      "cell_type": "code",
      "execution_count": null,
      "metadata": {
        "id": "XXj--ox_SUZS"
      },
      "outputs": [],
      "source": [
        "df_eng = df_clean5.copy()"
      ]
    },
    {
      "cell_type": "markdown",
      "metadata": {
        "id": "PxIiSSOaSAIw"
      },
      "source": [
        "### 4.3.1 Type_of_Loan"
      ]
    },
    {
      "cell_type": "code",
      "execution_count": null,
      "metadata": {
        "id": "6owLHdBnSL50"
      },
      "outputs": [],
      "source": [
        "# Split type of loan\n",
        "df_eng['Type_of_Loan'] = df_eng['Type_of_Loan'].str.replace(' and', '')\n",
        "split_df = df_eng['Type_of_Loan'].str.get_dummies(', ')\n",
        "df_eng = pd.concat([df_eng, split_df], axis = 1)\n",
        "df_eng.drop('Type_of_Loan', axis = 1, inplace = True)"
      ]
    },
    {
      "cell_type": "markdown",
      "metadata": {
        "id": "pTLc5QKKFCTV"
      },
      "source": [
        "### 4.3.2 Occupation"
      ]
    },
    {
      "cell_type": "code",
      "execution_count": null,
      "metadata": {
        "id": "BtHR12oIFFq_"
      },
      "outputs": [],
      "source": [
        "# Split Occupation\n",
        "split_df = df_eng['Occupation'].str.get_dummies()\n",
        "df_eng = pd.concat([df_eng, split_df], axis = 1)\n",
        "df_eng.drop('Occupation', axis = 1, inplace = True)"
      ]
    },
    {
      "cell_type": "markdown",
      "metadata": {
        "id": "2JwjLBbSAtXL"
      },
      "source": [
        "### 4.3.3 Credit_Mix"
      ]
    },
    {
      "cell_type": "code",
      "execution_count": null,
      "metadata": {
        "id": "VT4IWpAOAzSu"
      },
      "outputs": [],
      "source": [
        "df_eng['Credit_Mix'] = 'Credit_Mix_' + df_eng['Credit_Mix']\n",
        "# Split\n",
        "split_df = df_eng['Credit_Mix'].str.get_dummies()\n",
        "df_eng = pd.concat([df_eng, split_df], axis = 1)\n",
        "df_eng.drop('Credit_Mix', axis = 1, inplace = True)"
      ]
    },
    {
      "cell_type": "markdown",
      "metadata": {
        "id": "hnVViwmQBO3X"
      },
      "source": [
        "### 4.3.4. Payment_of_Min_Amount"
      ]
    },
    {
      "cell_type": "code",
      "execution_count": null,
      "metadata": {
        "id": "EkwpAJ-mCOFt"
      },
      "outputs": [],
      "source": [
        "mapping = {'Yes': 1,\n",
        "           'No' : 0}\n",
        "\n",
        "df_eng['Payment_of_Min_Amount'] = df_eng['Payment_of_Min_Amount'].map(mapping)"
      ]
    },
    {
      "cell_type": "markdown",
      "metadata": {
        "id": "lh62E5KJSE7x"
      },
      "source": [
        "### 4.3.5. Payment_Behaviour"
      ]
    },
    {
      "cell_type": "code",
      "execution_count": null,
      "metadata": {
        "id": "UnFFnevY7nrL"
      },
      "outputs": [],
      "source": [
        "df_eng['Payment_Behaviour'] = 'Payment_Behaviour_' + df_eng['Payment_Behaviour']\n",
        "# Split\n",
        "split_df = df_eng['Payment_Behaviour'].str.get_dummies()\n",
        "df_eng = pd.concat([df_eng, split_df], axis = 1)\n",
        "df_eng.drop(['Payment_Behaviour'], axis = 1, inplace = True)"
      ]
    },
    {
      "cell_type": "markdown",
      "metadata": {
        "id": "N83gAgU7SHzY"
      },
      "source": [
        "### 4.3.6 Ekstract Feature: Credit Score from the previous month"
      ]
    },
    {
      "cell_type": "code",
      "execution_count": null,
      "metadata": {
        "id": "s0CdUBaPR22K"
      },
      "outputs": [],
      "source": [
        "df_prev = pd.DataFrame({'Previous_Credit_Score': df_eng['Credit_Score'].iloc[:-1]})\n",
        "df_add = pd.DataFrame({'Previous_Credit_Score': ['Standard']})\n",
        "\n",
        "df_prev = pd.concat([df_add, df_prev])\n",
        "df_prev.reset_index(drop = True, inplace = True)\n",
        "df_prev.loc[df_prev.index % 8 == 0, 'Previous_Credit_Score'] = df_eng.loc[df_eng.index % 8 == 0, 'Credit_Score'].values\n",
        "\n",
        "df_eng = pd.concat([df_eng, df_prev], axis = 1)"
      ]
    },
    {
      "cell_type": "code",
      "execution_count": null,
      "metadata": {
        "id": "68Q3Q1yPfgaO"
      },
      "outputs": [],
      "source": [
        "df_eng['Previous_Credit_Score'] = 'Previous_Credit_Score_' + df_eng['Previous_Credit_Score']\n",
        "# Split\n",
        "split_df = df_eng['Previous_Credit_Score'].str.get_dummies()\n",
        "df_eng = pd.concat([df_eng, split_df], axis = 1)\n",
        "df_eng.drop('Previous_Credit_Score', axis = 1, inplace = True)"
      ]
    },
    {
      "cell_type": "code",
      "execution_count": null,
      "metadata": {
        "id": "H_D7pN9d9dOG",
        "colab": {
          "base_uri": "https://localhost:8080/"
        },
        "outputId": "b490dafc-3ae3-4055-83f5-153b61bc7dd0"
      },
      "outputs": [
        {
          "output_type": "stream",
          "name": "stdout",
          "text": [
            "<class 'pandas.core.frame.DataFrame'>\n",
            "RangeIndex: 100000 entries, 0 to 99999\n",
            "Data columns (total 54 columns):\n",
            " #   Column                                              Non-Null Count   Dtype  \n",
            "---  ------                                              --------------   -----  \n",
            " 0   Annual_Income                                       100000 non-null  float64\n",
            " 1   Monthly_Inhand_Salary                               100000 non-null  float64\n",
            " 2   Num_Bank_Accounts                                   100000 non-null  int64  \n",
            " 3   Num_Credit_Card                                     100000 non-null  int64  \n",
            " 4   Interest_Rate                                       100000 non-null  float64\n",
            " 5   Num_of_Loan                                         100000 non-null  int64  \n",
            " 6   Delay_from_due_date                                 100000 non-null  int64  \n",
            " 7   Num_of_Delayed_Payment                              100000 non-null  float64\n",
            " 8   Changed_Credit_Limit                                100000 non-null  float64\n",
            " 9   Num_Credit_Inquiries                                100000 non-null  float64\n",
            " 10  Outstanding_Debt                                    100000 non-null  float64\n",
            " 11  Credit_Utilization_Ratio                            100000 non-null  float64\n",
            " 12  Credit_History_Age                                  100000 non-null  int64  \n",
            " 13  Payment_of_Min_Amount                               100000 non-null  int64  \n",
            " 14  Total_EMI_per_month                                 100000 non-null  float64\n",
            " 15  Amount_invested_monthly                             100000 non-null  float64\n",
            " 16  Monthly_Balance                                     100000 non-null  float64\n",
            " 17  Credit_Score                                        100000 non-null  object \n",
            " 18  Auto Loan                                           100000 non-null  int64  \n",
            " 19  Credit-Builder Loan                                 100000 non-null  int64  \n",
            " 20  Debt Consolidation Loan                             100000 non-null  int64  \n",
            " 21  Home Equity Loan                                    100000 non-null  int64  \n",
            " 22  Mortgage Loan                                       100000 non-null  int64  \n",
            " 23  Not Specified                                       100000 non-null  int64  \n",
            " 24  Payday Loan                                         100000 non-null  int64  \n",
            " 25  Personal Loan                                       100000 non-null  int64  \n",
            " 26  Student Loan                                        100000 non-null  int64  \n",
            " 27  Accountant                                          100000 non-null  int64  \n",
            " 28  Architect                                           100000 non-null  int64  \n",
            " 29  Developer                                           100000 non-null  int64  \n",
            " 30  Doctor                                              100000 non-null  int64  \n",
            " 31  Engineer                                            100000 non-null  int64  \n",
            " 32  Entrepreneur                                        100000 non-null  int64  \n",
            " 33  Journalist                                          100000 non-null  int64  \n",
            " 34  Lawyer                                              100000 non-null  int64  \n",
            " 35  Manager                                             100000 non-null  int64  \n",
            " 36  Mechanic                                            100000 non-null  int64  \n",
            " 37  Media_Manager                                       100000 non-null  int64  \n",
            " 38  Musician                                            100000 non-null  int64  \n",
            " 39  Scientist                                           100000 non-null  int64  \n",
            " 40  Teacher                                             100000 non-null  int64  \n",
            " 41  Writer                                              100000 non-null  int64  \n",
            " 42  Credit_Mix_Bad                                      100000 non-null  int64  \n",
            " 43  Credit_Mix_Good                                     100000 non-null  int64  \n",
            " 44  Credit_Mix_Standard                                 100000 non-null  int64  \n",
            " 45  Payment_Behaviour_High_spent_Large_value_payments   100000 non-null  int64  \n",
            " 46  Payment_Behaviour_High_spent_Medium_value_payments  100000 non-null  int64  \n",
            " 47  Payment_Behaviour_High_spent_Small_value_payments   100000 non-null  int64  \n",
            " 48  Payment_Behaviour_Low_spent_Large_value_payments    100000 non-null  int64  \n",
            " 49  Payment_Behaviour_Low_spent_Medium_value_payments   100000 non-null  int64  \n",
            " 50  Payment_Behaviour_Low_spent_Small_value_payments    100000 non-null  int64  \n",
            " 51  Previous_Credit_Score_Good                          100000 non-null  int64  \n",
            " 52  Previous_Credit_Score_Poor                          100000 non-null  int64  \n",
            " 53  Previous_Credit_Score_Standard                      100000 non-null  int64  \n",
            "dtypes: float64(11), int64(42), object(1)\n",
            "memory usage: 41.2+ MB\n"
          ]
        }
      ],
      "source": [
        "df_eng.info()"
      ]
    },
    {
      "cell_type": "markdown",
      "metadata": {
        "id": "LdAwQJqTEx8W"
      },
      "source": [
        "# 5. Modeling and Evaluation"
      ]
    },
    {
      "cell_type": "code",
      "execution_count": null,
      "metadata": {
        "id": "sXwSmetUVpSB"
      },
      "outputs": [],
      "source": [
        "from sklearn.model_selection import train_test_split as tts, GridSearchCV\n",
        "\n",
        "from sklearn.linear_model import LogisticRegression as LR\n",
        "from sklearn.naive_bayes import GaussianNB as NB\n",
        "from sklearn.tree import DecisionTreeClassifier as DT\n",
        "\n",
        "from sklearn.metrics import classification_report as cr, confusion_matrix as cm"
      ]
    },
    {
      "cell_type": "markdown",
      "metadata": {
        "id": "V7WlpOX7Sr7W"
      },
      "source": [
        "## 5.1 Split Data"
      ]
    },
    {
      "cell_type": "code",
      "execution_count": null,
      "metadata": {
        "id": "MUR9usYzE2w3"
      },
      "outputs": [],
      "source": [
        "x_train, x_val, y_train, y_val = tts(\n",
        "    df_eng.drop('Credit_Score', axis = 1),\n",
        "    df_eng['Credit_Score'],\n",
        "    test_size = .3,\n",
        "    random_state = 99)"
      ]
    },
    {
      "cell_type": "markdown",
      "metadata": {
        "id": "1ai7NRVFs33g"
      },
      "source": [
        "## 5.2 Base Model"
      ]
    },
    {
      "cell_type": "markdown",
      "metadata": {
        "id": "NxxGiMZPtCkR"
      },
      "source": [
        "### 5.2.1 Naive Bayes"
      ]
    },
    {
      "cell_type": "code",
      "execution_count": null,
      "metadata": {
        "id": "-jnr5Jtgtnwp",
        "colab": {
          "base_uri": "https://localhost:8080/",
          "height": 74
        },
        "outputId": "c60ee9ff-c366-45b7-e2eb-4e905deffa76"
      },
      "outputs": [
        {
          "output_type": "execute_result",
          "data": {
            "text/plain": [
              "GaussianNB()"
            ],
            "text/html": [
              "<style>#sk-container-id-1 {color: black;background-color: white;}#sk-container-id-1 pre{padding: 0;}#sk-container-id-1 div.sk-toggleable {background-color: white;}#sk-container-id-1 label.sk-toggleable__label {cursor: pointer;display: block;width: 100%;margin-bottom: 0;padding: 0.3em;box-sizing: border-box;text-align: center;}#sk-container-id-1 label.sk-toggleable__label-arrow:before {content: \"▸\";float: left;margin-right: 0.25em;color: #696969;}#sk-container-id-1 label.sk-toggleable__label-arrow:hover:before {color: black;}#sk-container-id-1 div.sk-estimator:hover label.sk-toggleable__label-arrow:before {color: black;}#sk-container-id-1 div.sk-toggleable__content {max-height: 0;max-width: 0;overflow: hidden;text-align: left;background-color: #f0f8ff;}#sk-container-id-1 div.sk-toggleable__content pre {margin: 0.2em;color: black;border-radius: 0.25em;background-color: #f0f8ff;}#sk-container-id-1 input.sk-toggleable__control:checked~div.sk-toggleable__content {max-height: 200px;max-width: 100%;overflow: auto;}#sk-container-id-1 input.sk-toggleable__control:checked~label.sk-toggleable__label-arrow:before {content: \"▾\";}#sk-container-id-1 div.sk-estimator input.sk-toggleable__control:checked~label.sk-toggleable__label {background-color: #d4ebff;}#sk-container-id-1 div.sk-label input.sk-toggleable__control:checked~label.sk-toggleable__label {background-color: #d4ebff;}#sk-container-id-1 input.sk-hidden--visually {border: 0;clip: rect(1px 1px 1px 1px);clip: rect(1px, 1px, 1px, 1px);height: 1px;margin: -1px;overflow: hidden;padding: 0;position: absolute;width: 1px;}#sk-container-id-1 div.sk-estimator {font-family: monospace;background-color: #f0f8ff;border: 1px dotted black;border-radius: 0.25em;box-sizing: border-box;margin-bottom: 0.5em;}#sk-container-id-1 div.sk-estimator:hover {background-color: #d4ebff;}#sk-container-id-1 div.sk-parallel-item::after {content: \"\";width: 100%;border-bottom: 1px solid gray;flex-grow: 1;}#sk-container-id-1 div.sk-label:hover label.sk-toggleable__label {background-color: #d4ebff;}#sk-container-id-1 div.sk-serial::before {content: \"\";position: absolute;border-left: 1px solid gray;box-sizing: border-box;top: 0;bottom: 0;left: 50%;z-index: 0;}#sk-container-id-1 div.sk-serial {display: flex;flex-direction: column;align-items: center;background-color: white;padding-right: 0.2em;padding-left: 0.2em;position: relative;}#sk-container-id-1 div.sk-item {position: relative;z-index: 1;}#sk-container-id-1 div.sk-parallel {display: flex;align-items: stretch;justify-content: center;background-color: white;position: relative;}#sk-container-id-1 div.sk-item::before, #sk-container-id-1 div.sk-parallel-item::before {content: \"\";position: absolute;border-left: 1px solid gray;box-sizing: border-box;top: 0;bottom: 0;left: 50%;z-index: -1;}#sk-container-id-1 div.sk-parallel-item {display: flex;flex-direction: column;z-index: 1;position: relative;background-color: white;}#sk-container-id-1 div.sk-parallel-item:first-child::after {align-self: flex-end;width: 50%;}#sk-container-id-1 div.sk-parallel-item:last-child::after {align-self: flex-start;width: 50%;}#sk-container-id-1 div.sk-parallel-item:only-child::after {width: 0;}#sk-container-id-1 div.sk-dashed-wrapped {border: 1px dashed gray;margin: 0 0.4em 0.5em 0.4em;box-sizing: border-box;padding-bottom: 0.4em;background-color: white;}#sk-container-id-1 div.sk-label label {font-family: monospace;font-weight: bold;display: inline-block;line-height: 1.2em;}#sk-container-id-1 div.sk-label-container {text-align: center;}#sk-container-id-1 div.sk-container {/* jupyter's `normalize.less` sets `[hidden] { display: none; }` but bootstrap.min.css set `[hidden] { display: none !important; }` so we also need the `!important` here to be able to override the default hidden behavior on the sphinx rendered scikit-learn.org. See: https://github.com/scikit-learn/scikit-learn/issues/21755 */display: inline-block !important;position: relative;}#sk-container-id-1 div.sk-text-repr-fallback {display: none;}</style><div id=\"sk-container-id-1\" class=\"sk-top-container\"><div class=\"sk-text-repr-fallback\"><pre>GaussianNB()</pre><b>In a Jupyter environment, please rerun this cell to show the HTML representation or trust the notebook. <br />On GitHub, the HTML representation is unable to render, please try loading this page with nbviewer.org.</b></div><div class=\"sk-container\" hidden><div class=\"sk-item\"><div class=\"sk-estimator sk-toggleable\"><input class=\"sk-toggleable__control sk-hidden--visually\" id=\"sk-estimator-id-1\" type=\"checkbox\" checked><label for=\"sk-estimator-id-1\" class=\"sk-toggleable__label sk-toggleable__label-arrow\">GaussianNB</label><div class=\"sk-toggleable__content\"><pre>GaussianNB()</pre></div></div></div></div></div>"
            ]
          },
          "metadata": {},
          "execution_count": 47
        }
      ],
      "source": [
        "naive_model = NB()\n",
        "naive_model.fit(x_train, y_train)"
      ]
    },
    {
      "cell_type": "code",
      "execution_count": null,
      "metadata": {
        "id": "IHDxAz2spITq",
        "colab": {
          "base_uri": "https://localhost:8080/"
        },
        "outputId": "0e9ffead-977b-4e28-d888-abbe21d8458f"
      },
      "outputs": [
        {
          "output_type": "stream",
          "name": "stdout",
          "text": [
            "[[1966  650 2749]\n",
            " [ 798 6292 1613]\n",
            " [3293 6264 6375]]\n",
            "              precision    recall  f1-score   support\n",
            "\n",
            "        Good       0.32      0.37      0.34      5365\n",
            "        Poor       0.48      0.72      0.57      8703\n",
            "    Standard       0.59      0.40      0.48     15932\n",
            "\n",
            "    accuracy                           0.49     30000\n",
            "   macro avg       0.46      0.50      0.47     30000\n",
            "weighted avg       0.51      0.49      0.48     30000\n",
            "\n"
          ]
        }
      ],
      "source": [
        "naive_prediction = naive_model.predict(x_val)\n",
        "naive_report = cr(y_val, naive_prediction)\n",
        "print(cm(y_val, naive_prediction))\n",
        "print(naive_report)"
      ]
    },
    {
      "cell_type": "markdown",
      "metadata": {
        "id": "MU6aZX1Bs9FW"
      },
      "source": [
        "### 5.2.2 Logistic Regression"
      ]
    },
    {
      "cell_type": "code",
      "execution_count": null,
      "metadata": {
        "id": "4amuhugx6DtW",
        "colab": {
          "base_uri": "https://localhost:8080/",
          "height": 74
        },
        "outputId": "26fff721-d9d5-421f-edc8-ecc4e655f07c"
      },
      "outputs": [
        {
          "output_type": "execute_result",
          "data": {
            "text/plain": [
              "LogisticRegression(max_iter=100000)"
            ],
            "text/html": [
              "<style>#sk-container-id-2 {color: black;background-color: white;}#sk-container-id-2 pre{padding: 0;}#sk-container-id-2 div.sk-toggleable {background-color: white;}#sk-container-id-2 label.sk-toggleable__label {cursor: pointer;display: block;width: 100%;margin-bottom: 0;padding: 0.3em;box-sizing: border-box;text-align: center;}#sk-container-id-2 label.sk-toggleable__label-arrow:before {content: \"▸\";float: left;margin-right: 0.25em;color: #696969;}#sk-container-id-2 label.sk-toggleable__label-arrow:hover:before {color: black;}#sk-container-id-2 div.sk-estimator:hover label.sk-toggleable__label-arrow:before {color: black;}#sk-container-id-2 div.sk-toggleable__content {max-height: 0;max-width: 0;overflow: hidden;text-align: left;background-color: #f0f8ff;}#sk-container-id-2 div.sk-toggleable__content pre {margin: 0.2em;color: black;border-radius: 0.25em;background-color: #f0f8ff;}#sk-container-id-2 input.sk-toggleable__control:checked~div.sk-toggleable__content {max-height: 200px;max-width: 100%;overflow: auto;}#sk-container-id-2 input.sk-toggleable__control:checked~label.sk-toggleable__label-arrow:before {content: \"▾\";}#sk-container-id-2 div.sk-estimator input.sk-toggleable__control:checked~label.sk-toggleable__label {background-color: #d4ebff;}#sk-container-id-2 div.sk-label input.sk-toggleable__control:checked~label.sk-toggleable__label {background-color: #d4ebff;}#sk-container-id-2 input.sk-hidden--visually {border: 0;clip: rect(1px 1px 1px 1px);clip: rect(1px, 1px, 1px, 1px);height: 1px;margin: -1px;overflow: hidden;padding: 0;position: absolute;width: 1px;}#sk-container-id-2 div.sk-estimator {font-family: monospace;background-color: #f0f8ff;border: 1px dotted black;border-radius: 0.25em;box-sizing: border-box;margin-bottom: 0.5em;}#sk-container-id-2 div.sk-estimator:hover {background-color: #d4ebff;}#sk-container-id-2 div.sk-parallel-item::after {content: \"\";width: 100%;border-bottom: 1px solid gray;flex-grow: 1;}#sk-container-id-2 div.sk-label:hover label.sk-toggleable__label {background-color: #d4ebff;}#sk-container-id-2 div.sk-serial::before {content: \"\";position: absolute;border-left: 1px solid gray;box-sizing: border-box;top: 0;bottom: 0;left: 50%;z-index: 0;}#sk-container-id-2 div.sk-serial {display: flex;flex-direction: column;align-items: center;background-color: white;padding-right: 0.2em;padding-left: 0.2em;position: relative;}#sk-container-id-2 div.sk-item {position: relative;z-index: 1;}#sk-container-id-2 div.sk-parallel {display: flex;align-items: stretch;justify-content: center;background-color: white;position: relative;}#sk-container-id-2 div.sk-item::before, #sk-container-id-2 div.sk-parallel-item::before {content: \"\";position: absolute;border-left: 1px solid gray;box-sizing: border-box;top: 0;bottom: 0;left: 50%;z-index: -1;}#sk-container-id-2 div.sk-parallel-item {display: flex;flex-direction: column;z-index: 1;position: relative;background-color: white;}#sk-container-id-2 div.sk-parallel-item:first-child::after {align-self: flex-end;width: 50%;}#sk-container-id-2 div.sk-parallel-item:last-child::after {align-self: flex-start;width: 50%;}#sk-container-id-2 div.sk-parallel-item:only-child::after {width: 0;}#sk-container-id-2 div.sk-dashed-wrapped {border: 1px dashed gray;margin: 0 0.4em 0.5em 0.4em;box-sizing: border-box;padding-bottom: 0.4em;background-color: white;}#sk-container-id-2 div.sk-label label {font-family: monospace;font-weight: bold;display: inline-block;line-height: 1.2em;}#sk-container-id-2 div.sk-label-container {text-align: center;}#sk-container-id-2 div.sk-container {/* jupyter's `normalize.less` sets `[hidden] { display: none; }` but bootstrap.min.css set `[hidden] { display: none !important; }` so we also need the `!important` here to be able to override the default hidden behavior on the sphinx rendered scikit-learn.org. See: https://github.com/scikit-learn/scikit-learn/issues/21755 */display: inline-block !important;position: relative;}#sk-container-id-2 div.sk-text-repr-fallback {display: none;}</style><div id=\"sk-container-id-2\" class=\"sk-top-container\"><div class=\"sk-text-repr-fallback\"><pre>LogisticRegression(max_iter=100000)</pre><b>In a Jupyter environment, please rerun this cell to show the HTML representation or trust the notebook. <br />On GitHub, the HTML representation is unable to render, please try loading this page with nbviewer.org.</b></div><div class=\"sk-container\" hidden><div class=\"sk-item\"><div class=\"sk-estimator sk-toggleable\"><input class=\"sk-toggleable__control sk-hidden--visually\" id=\"sk-estimator-id-2\" type=\"checkbox\" checked><label for=\"sk-estimator-id-2\" class=\"sk-toggleable__label sk-toggleable__label-arrow\">LogisticRegression</label><div class=\"sk-toggleable__content\"><pre>LogisticRegression(max_iter=100000)</pre></div></div></div></div></div>"
            ]
          },
          "metadata": {},
          "execution_count": 49
        }
      ],
      "source": [
        "log_model = LR(max_iter = 100000)\n",
        "log_model.fit(x_train, y_train)"
      ]
    },
    {
      "cell_type": "code",
      "execution_count": null,
      "metadata": {
        "id": "XskHXvoIpDaZ",
        "colab": {
          "base_uri": "https://localhost:8080/"
        },
        "outputId": "ff4144bc-cc67-4b11-f35b-6f04edcdb58a"
      },
      "outputs": [
        {
          "output_type": "stream",
          "name": "stdout",
          "text": [
            "[[  193   106  5066]\n",
            " [   67  2647  5989]\n",
            " [  347  2433 13152]]\n",
            "              precision    recall  f1-score   support\n",
            "\n",
            "        Good       0.32      0.04      0.06      5365\n",
            "        Poor       0.51      0.30      0.38      8703\n",
            "    Standard       0.54      0.83      0.66     15932\n",
            "\n",
            "    accuracy                           0.53     30000\n",
            "   macro avg       0.46      0.39      0.37     30000\n",
            "weighted avg       0.49      0.53      0.47     30000\n",
            "\n"
          ]
        }
      ],
      "source": [
        "log_prediction = log_model.predict(x_val)\n",
        "log_report = cr(y_val, log_prediction)\n",
        "print(cm(y_val, log_prediction))\n",
        "print(log_report)"
      ]
    },
    {
      "cell_type": "markdown",
      "metadata": {
        "id": "GvxMpFYLtAUM"
      },
      "source": [
        "### 5.2.3 Decision Tree"
      ]
    },
    {
      "cell_type": "code",
      "execution_count": null,
      "metadata": {
        "id": "hWaF1XZpsfec",
        "colab": {
          "base_uri": "https://localhost:8080/",
          "height": 74
        },
        "outputId": "a7576bf8-d834-436d-acdb-08b9a30c84f2"
      },
      "outputs": [
        {
          "output_type": "execute_result",
          "data": {
            "text/plain": [
              "DecisionTreeClassifier()"
            ],
            "text/html": [
              "<style>#sk-container-id-3 {color: black;background-color: white;}#sk-container-id-3 pre{padding: 0;}#sk-container-id-3 div.sk-toggleable {background-color: white;}#sk-container-id-3 label.sk-toggleable__label {cursor: pointer;display: block;width: 100%;margin-bottom: 0;padding: 0.3em;box-sizing: border-box;text-align: center;}#sk-container-id-3 label.sk-toggleable__label-arrow:before {content: \"▸\";float: left;margin-right: 0.25em;color: #696969;}#sk-container-id-3 label.sk-toggleable__label-arrow:hover:before {color: black;}#sk-container-id-3 div.sk-estimator:hover label.sk-toggleable__label-arrow:before {color: black;}#sk-container-id-3 div.sk-toggleable__content {max-height: 0;max-width: 0;overflow: hidden;text-align: left;background-color: #f0f8ff;}#sk-container-id-3 div.sk-toggleable__content pre {margin: 0.2em;color: black;border-radius: 0.25em;background-color: #f0f8ff;}#sk-container-id-3 input.sk-toggleable__control:checked~div.sk-toggleable__content {max-height: 200px;max-width: 100%;overflow: auto;}#sk-container-id-3 input.sk-toggleable__control:checked~label.sk-toggleable__label-arrow:before {content: \"▾\";}#sk-container-id-3 div.sk-estimator input.sk-toggleable__control:checked~label.sk-toggleable__label {background-color: #d4ebff;}#sk-container-id-3 div.sk-label input.sk-toggleable__control:checked~label.sk-toggleable__label {background-color: #d4ebff;}#sk-container-id-3 input.sk-hidden--visually {border: 0;clip: rect(1px 1px 1px 1px);clip: rect(1px, 1px, 1px, 1px);height: 1px;margin: -1px;overflow: hidden;padding: 0;position: absolute;width: 1px;}#sk-container-id-3 div.sk-estimator {font-family: monospace;background-color: #f0f8ff;border: 1px dotted black;border-radius: 0.25em;box-sizing: border-box;margin-bottom: 0.5em;}#sk-container-id-3 div.sk-estimator:hover {background-color: #d4ebff;}#sk-container-id-3 div.sk-parallel-item::after {content: \"\";width: 100%;border-bottom: 1px solid gray;flex-grow: 1;}#sk-container-id-3 div.sk-label:hover label.sk-toggleable__label {background-color: #d4ebff;}#sk-container-id-3 div.sk-serial::before {content: \"\";position: absolute;border-left: 1px solid gray;box-sizing: border-box;top: 0;bottom: 0;left: 50%;z-index: 0;}#sk-container-id-3 div.sk-serial {display: flex;flex-direction: column;align-items: center;background-color: white;padding-right: 0.2em;padding-left: 0.2em;position: relative;}#sk-container-id-3 div.sk-item {position: relative;z-index: 1;}#sk-container-id-3 div.sk-parallel {display: flex;align-items: stretch;justify-content: center;background-color: white;position: relative;}#sk-container-id-3 div.sk-item::before, #sk-container-id-3 div.sk-parallel-item::before {content: \"\";position: absolute;border-left: 1px solid gray;box-sizing: border-box;top: 0;bottom: 0;left: 50%;z-index: -1;}#sk-container-id-3 div.sk-parallel-item {display: flex;flex-direction: column;z-index: 1;position: relative;background-color: white;}#sk-container-id-3 div.sk-parallel-item:first-child::after {align-self: flex-end;width: 50%;}#sk-container-id-3 div.sk-parallel-item:last-child::after {align-self: flex-start;width: 50%;}#sk-container-id-3 div.sk-parallel-item:only-child::after {width: 0;}#sk-container-id-3 div.sk-dashed-wrapped {border: 1px dashed gray;margin: 0 0.4em 0.5em 0.4em;box-sizing: border-box;padding-bottom: 0.4em;background-color: white;}#sk-container-id-3 div.sk-label label {font-family: monospace;font-weight: bold;display: inline-block;line-height: 1.2em;}#sk-container-id-3 div.sk-label-container {text-align: center;}#sk-container-id-3 div.sk-container {/* jupyter's `normalize.less` sets `[hidden] { display: none; }` but bootstrap.min.css set `[hidden] { display: none !important; }` so we also need the `!important` here to be able to override the default hidden behavior on the sphinx rendered scikit-learn.org. See: https://github.com/scikit-learn/scikit-learn/issues/21755 */display: inline-block !important;position: relative;}#sk-container-id-3 div.sk-text-repr-fallback {display: none;}</style><div id=\"sk-container-id-3\" class=\"sk-top-container\"><div class=\"sk-text-repr-fallback\"><pre>DecisionTreeClassifier()</pre><b>In a Jupyter environment, please rerun this cell to show the HTML representation or trust the notebook. <br />On GitHub, the HTML representation is unable to render, please try loading this page with nbviewer.org.</b></div><div class=\"sk-container\" hidden><div class=\"sk-item\"><div class=\"sk-estimator sk-toggleable\"><input class=\"sk-toggleable__control sk-hidden--visually\" id=\"sk-estimator-id-3\" type=\"checkbox\" checked><label for=\"sk-estimator-id-3\" class=\"sk-toggleable__label sk-toggleable__label-arrow\">DecisionTreeClassifier</label><div class=\"sk-toggleable__content\"><pre>DecisionTreeClassifier()</pre></div></div></div></div></div>"
            ]
          },
          "metadata": {},
          "execution_count": 51
        }
      ],
      "source": [
        "tree_model = DT()\n",
        "tree_model.fit(x_train, y_train)"
      ]
    },
    {
      "cell_type": "code",
      "execution_count": null,
      "metadata": {
        "id": "3kN6r-OlpGg6",
        "colab": {
          "base_uri": "https://localhost:8080/"
        },
        "outputId": "46b2544a-c407-4659-b10c-94d0dc473519"
      },
      "outputs": [
        {
          "output_type": "stream",
          "name": "stdout",
          "text": [
            "[[ 3868    41  1456]\n",
            " [   47  6561  2095]\n",
            " [ 1447  2056 12429]]\n",
            "              precision    recall  f1-score   support\n",
            "\n",
            "        Good       0.72      0.72      0.72      5365\n",
            "        Poor       0.76      0.75      0.76      8703\n",
            "    Standard       0.78      0.78      0.78     15932\n",
            "\n",
            "    accuracy                           0.76     30000\n",
            "   macro avg       0.75      0.75      0.75     30000\n",
            "weighted avg       0.76      0.76      0.76     30000\n",
            "\n"
          ]
        }
      ],
      "source": [
        "tree_prediction = tree_model.predict(x_val)\n",
        "tree_report = cr(y_val, tree_prediction)\n",
        "print(cm(y_val, tree_prediction))\n",
        "print(tree_report)"
      ]
    },
    {
      "cell_type": "markdown",
      "metadata": {
        "id": "A2CwCiuNwEeJ"
      },
      "source": [
        "## 5.3 Ensemble Model and Performance Improvment"
      ]
    },
    {
      "cell_type": "code",
      "execution_count": null,
      "metadata": {
        "id": "acUqdaBpwPNd"
      },
      "outputs": [],
      "source": [
        "from sklearn.ensemble import RandomForestClassifier as RF\n",
        "\n",
        "from sklearn.model_selection import GridSearchCV as GS"
      ]
    },
    {
      "cell_type": "markdown",
      "metadata": {
        "id": "Z1SrVVeawMZU"
      },
      "source": [
        "### 5.3.1 Random Forest"
      ]
    },
    {
      "cell_type": "code",
      "execution_count": null,
      "metadata": {
        "id": "Fw72UQI7wQOu",
        "colab": {
          "base_uri": "https://localhost:8080/",
          "height": 74
        },
        "outputId": "381d92fc-910f-49fa-8c14-3d485f6d74b5"
      },
      "outputs": [
        {
          "output_type": "execute_result",
          "data": {
            "text/plain": [
              "RandomForestClassifier(n_jobs=-1, random_state=113)"
            ],
            "text/html": [
              "<style>#sk-container-id-4 {color: black;background-color: white;}#sk-container-id-4 pre{padding: 0;}#sk-container-id-4 div.sk-toggleable {background-color: white;}#sk-container-id-4 label.sk-toggleable__label {cursor: pointer;display: block;width: 100%;margin-bottom: 0;padding: 0.3em;box-sizing: border-box;text-align: center;}#sk-container-id-4 label.sk-toggleable__label-arrow:before {content: \"▸\";float: left;margin-right: 0.25em;color: #696969;}#sk-container-id-4 label.sk-toggleable__label-arrow:hover:before {color: black;}#sk-container-id-4 div.sk-estimator:hover label.sk-toggleable__label-arrow:before {color: black;}#sk-container-id-4 div.sk-toggleable__content {max-height: 0;max-width: 0;overflow: hidden;text-align: left;background-color: #f0f8ff;}#sk-container-id-4 div.sk-toggleable__content pre {margin: 0.2em;color: black;border-radius: 0.25em;background-color: #f0f8ff;}#sk-container-id-4 input.sk-toggleable__control:checked~div.sk-toggleable__content {max-height: 200px;max-width: 100%;overflow: auto;}#sk-container-id-4 input.sk-toggleable__control:checked~label.sk-toggleable__label-arrow:before {content: \"▾\";}#sk-container-id-4 div.sk-estimator input.sk-toggleable__control:checked~label.sk-toggleable__label {background-color: #d4ebff;}#sk-container-id-4 div.sk-label input.sk-toggleable__control:checked~label.sk-toggleable__label {background-color: #d4ebff;}#sk-container-id-4 input.sk-hidden--visually {border: 0;clip: rect(1px 1px 1px 1px);clip: rect(1px, 1px, 1px, 1px);height: 1px;margin: -1px;overflow: hidden;padding: 0;position: absolute;width: 1px;}#sk-container-id-4 div.sk-estimator {font-family: monospace;background-color: #f0f8ff;border: 1px dotted black;border-radius: 0.25em;box-sizing: border-box;margin-bottom: 0.5em;}#sk-container-id-4 div.sk-estimator:hover {background-color: #d4ebff;}#sk-container-id-4 div.sk-parallel-item::after {content: \"\";width: 100%;border-bottom: 1px solid gray;flex-grow: 1;}#sk-container-id-4 div.sk-label:hover label.sk-toggleable__label {background-color: #d4ebff;}#sk-container-id-4 div.sk-serial::before {content: \"\";position: absolute;border-left: 1px solid gray;box-sizing: border-box;top: 0;bottom: 0;left: 50%;z-index: 0;}#sk-container-id-4 div.sk-serial {display: flex;flex-direction: column;align-items: center;background-color: white;padding-right: 0.2em;padding-left: 0.2em;position: relative;}#sk-container-id-4 div.sk-item {position: relative;z-index: 1;}#sk-container-id-4 div.sk-parallel {display: flex;align-items: stretch;justify-content: center;background-color: white;position: relative;}#sk-container-id-4 div.sk-item::before, #sk-container-id-4 div.sk-parallel-item::before {content: \"\";position: absolute;border-left: 1px solid gray;box-sizing: border-box;top: 0;bottom: 0;left: 50%;z-index: -1;}#sk-container-id-4 div.sk-parallel-item {display: flex;flex-direction: column;z-index: 1;position: relative;background-color: white;}#sk-container-id-4 div.sk-parallel-item:first-child::after {align-self: flex-end;width: 50%;}#sk-container-id-4 div.sk-parallel-item:last-child::after {align-self: flex-start;width: 50%;}#sk-container-id-4 div.sk-parallel-item:only-child::after {width: 0;}#sk-container-id-4 div.sk-dashed-wrapped {border: 1px dashed gray;margin: 0 0.4em 0.5em 0.4em;box-sizing: border-box;padding-bottom: 0.4em;background-color: white;}#sk-container-id-4 div.sk-label label {font-family: monospace;font-weight: bold;display: inline-block;line-height: 1.2em;}#sk-container-id-4 div.sk-label-container {text-align: center;}#sk-container-id-4 div.sk-container {/* jupyter's `normalize.less` sets `[hidden] { display: none; }` but bootstrap.min.css set `[hidden] { display: none !important; }` so we also need the `!important` here to be able to override the default hidden behavior on the sphinx rendered scikit-learn.org. See: https://github.com/scikit-learn/scikit-learn/issues/21755 */display: inline-block !important;position: relative;}#sk-container-id-4 div.sk-text-repr-fallback {display: none;}</style><div id=\"sk-container-id-4\" class=\"sk-top-container\"><div class=\"sk-text-repr-fallback\"><pre>RandomForestClassifier(n_jobs=-1, random_state=113)</pre><b>In a Jupyter environment, please rerun this cell to show the HTML representation or trust the notebook. <br />On GitHub, the HTML representation is unable to render, please try loading this page with nbviewer.org.</b></div><div class=\"sk-container\" hidden><div class=\"sk-item\"><div class=\"sk-estimator sk-toggleable\"><input class=\"sk-toggleable__control sk-hidden--visually\" id=\"sk-estimator-id-4\" type=\"checkbox\" checked><label for=\"sk-estimator-id-4\" class=\"sk-toggleable__label sk-toggleable__label-arrow\">RandomForestClassifier</label><div class=\"sk-toggleable__content\"><pre>RandomForestClassifier(n_jobs=-1, random_state=113)</pre></div></div></div></div></div>"
            ]
          },
          "metadata": {},
          "execution_count": 54
        }
      ],
      "source": [
        "rf_model1 = RF(n_jobs = -1, random_state = 113)\n",
        "rf_model1.fit(x_train, y_train)"
      ]
    },
    {
      "cell_type": "code",
      "execution_count": null,
      "metadata": {
        "id": "l7Nux4aIpKND",
        "colab": {
          "base_uri": "https://localhost:8080/"
        },
        "outputId": "34b26619-341c-4bab-b671-f16a0e8d28dd"
      },
      "outputs": [
        {
          "output_type": "stream",
          "name": "stdout",
          "text": [
            "[[ 4461     0   904]\n",
            " [    0  7595  1108]\n",
            " [  986  1679 13267]]\n",
            "              precision    recall  f1-score   support\n",
            "\n",
            "        Good       0.82      0.83      0.83      5365\n",
            "        Poor       0.82      0.87      0.84      8703\n",
            "    Standard       0.87      0.83      0.85     15932\n",
            "\n",
            "    accuracy                           0.84     30000\n",
            "   macro avg       0.84      0.85      0.84     30000\n",
            "weighted avg       0.85      0.84      0.84     30000\n",
            "\n"
          ]
        }
      ],
      "source": [
        "rf_prediction1 = rf_model1.predict(x_val)\n",
        "rf_report1 = cr(y_val, rf_prediction1)\n",
        "print(cm(y_val, rf_prediction1))\n",
        "print(rf_report1)"
      ]
    },
    {
      "cell_type": "markdown",
      "metadata": {
        "id": "uy9VU0hZ9osq"
      },
      "source": [
        "### 5.3.2. Feature Importance"
      ]
    },
    {
      "cell_type": "code",
      "execution_count": null,
      "metadata": {
        "id": "BzE5XDMMS9Zd",
        "colab": {
          "base_uri": "https://localhost:8080/"
        },
        "outputId": "a471261e-09e3-4a9e-f6f1-cdf2a70f05e4"
      },
      "outputs": [
        {
          "output_type": "stream",
          "name": "stdout",
          "text": [
            "Previous_Credit_Score_Poor: 0.16915037014821946\n",
            "Previous_Credit_Score_Standard: 0.14587937610523294\n",
            "Previous_Credit_Score_Good: 0.10207570597556999\n",
            "Outstanding_Debt: 0.05306793960836417\n",
            "Credit_History_Age: 0.037042024091880336\n",
            "Amount_invested_monthly: 0.03381134720150522\n",
            "Credit_Utilization_Ratio: 0.03348912882685108\n",
            "Monthly_Balance: 0.033166798710873385\n",
            "Interest_Rate: 0.03293698610546244\n",
            "Delay_from_due_date: 0.03147062083899371\n",
            "Changed_Credit_Limit: 0.03104796866386652\n",
            "Credit_Mix_Good: 0.02906005499064924\n",
            "Num_Credit_Inquiries: 0.024862317858785656\n",
            "Monthly_Inhand_Salary: 0.021405329421477444\n",
            "Annual_Income: 0.02094884581960505\n",
            "Total_EMI_per_month: 0.020087513219374607\n",
            "Num_Credit_Card: 0.01950286351252054\n",
            "Credit_Mix_Standard: 0.018848437537749525\n",
            "Num_of_Delayed_Payment: 0.018674009497836413\n",
            "Num_of_Loan: 0.014565093056893795\n",
            "Num_Bank_Accounts: 0.013976564398967469\n",
            "Payment_of_Min_Amount: 0.010477225648525976\n",
            "Credit_Mix_Bad: 0.00575841237355379\n",
            "Payment_Behaviour_Low_spent_Small_value_payments: 0.0045642420175972176\n",
            "Payment_Behaviour_High_spent_Medium_value_payments: 0.0043947383369307026\n",
            "Payment_Behaviour_Low_spent_Medium_value_payments: 0.0038037438287789006\n",
            "Payment_Behaviour_High_spent_Small_value_payments: 0.0035839212100344073\n",
            "Payment_Behaviour_High_spent_Large_value_payments: 0.0035230823267340112\n",
            "Payment_Behaviour_Low_spent_Large_value_payments: 0.003332350454524532\n",
            "Auto Loan: 0.0031979268660190085\n",
            "Home Equity Loan: 0.0031655858716433407\n",
            "Payday Loan: 0.003142769091334606\n",
            "Debt Consolidation Loan: 0.003125101691025901\n",
            "Personal Loan: 0.0030766379876500673\n",
            "Not Specified: 0.0030470919589080095\n",
            "Credit-Builder Loan: 0.0030439094558258914\n",
            "Mortgage Loan: 0.0030178971325037314\n",
            "Student Loan: 0.003015658972421425\n",
            "Manager: 0.0019709392274672435\n",
            "Developer: 0.0019314630445929045\n",
            "Scientist: 0.0019279067678875633\n",
            "Teacher: 0.0019163225428946488\n",
            "Journalist: 0.0018955572797445385\n",
            "Lawyer: 0.0018922194233545525\n",
            "Doctor: 0.0018688484533130726\n",
            "Accountant: 0.0018597264683256002\n",
            "Engineer: 0.001845173366291615\n",
            "Mechanic: 0.0018440261585866509\n",
            "Entrepreneur: 0.0018268444258800279\n",
            "Media_Manager: 0.0017819795310502317\n",
            "Architect: 0.0017758019825445685\n",
            "Musician: 0.0017062061416778245\n",
            "Writer: 0.00161739437169852\n"
          ]
        }
      ],
      "source": [
        "importances = rf_model1.feature_importances_\n",
        "\n",
        "# Create a list of feature names and importances\n",
        "feature_importances = list(zip(x_train.columns, importances))\n",
        "\n",
        "# Sort feature importances in descending order\n",
        "feature_importances_sorted = sorted(feature_importances, key=lambda x: x[1], reverse=True)\n",
        "\n",
        "# Print sorted feature importances\n",
        "a = 0\n",
        "for feature, importance in feature_importances_sorted:\n",
        "    print(f\"{feature}: {importance}\")\n",
        "    a = a + importance"
      ]
    },
    {
      "cell_type": "code",
      "execution_count": null,
      "metadata": {
        "id": "sQvAAIjXT19S",
        "colab": {
          "base_uri": "https://localhost:8080/",
          "height": 964
        },
        "outputId": "0adad4e3-6beb-47cd-f05d-d4abdd1a13cf"
      },
      "outputs": [
        {
          "output_type": "display_data",
          "data": {
            "text/plain": [
              "<Figure size 1800x1500 with 1 Axes>"
            ],
            "image/png": "[encoded data removed]"
          },
          "metadata": {}
        }
      ],
      "source": [
        "# Create a DataFrame from the sorted feature importances\n",
        "df_feature_importances = pd.DataFrame(feature_importances_sorted, columns=['Feature', 'Importance'])\n",
        "\n",
        "# Plot the feature importances using Seaborn with Viridis color palette\n",
        "plt.figure(figsize=(18, 15))\n",
        "sns.barplot(x='Importance', y='Feature', data=df_feature_importances, palette='viridis')\n",
        "plt.title('Feature Importances')\n",
        "plt.xlabel('Importance')\n",
        "plt.ylabel('Feature')\n",
        "\n",
        "# Add value labels to the bars\n",
        "for i, v in enumerate(df_feature_importances['Importance']):\n",
        "    plt.text(v + 0.001, i, f'{v:.5f}', color='black', va='center')\n",
        "\n",
        "plt.show()"
      ]
    },
    {
      "cell_type": "code",
      "execution_count": null,
      "metadata": {
        "id": "-mi5REpGPeQE"
      },
      "outputs": [],
      "source": [
        "col = ['Writer',\n",
        "       'Architect',\n",
        "       'Musician',\n",
        "       'Media_Manager',\n",
        "       'Entrepreneur',\n",
        "       'Mechanic',\n",
        "       'Journalist',\n",
        "       'Doctor',\n",
        "       'Accountant',\n",
        "       'Engineer',\n",
        "       'Manager',\n",
        "       'Teacher',\n",
        "       'Lawyer',\n",
        "       'Developer',\n",
        "       'Scientist',\n",
        "       'Credit-Builder Loan',\n",
        "       'Mortgage Loan',\n",
        "       'Debt Consolidation Loan',\n",
        "       'Home Equity Loan',\n",
        "       'Not Specified',\n",
        "       'Student Loan',\n",
        "       'Auto Loan',\n",
        "       'Payday Loan',\n",
        "       'Personal Loan']\n",
        "\n",
        "x_train_drop = x_train.drop(columns = col, axis = 1)\n",
        "x_val_drop = x_val.drop(columns = col, axis = 1)"
      ]
    },
    {
      "cell_type": "code",
      "execution_count": null,
      "metadata": {
        "id": "mNi9CHaDzahn",
        "colab": {
          "base_uri": "https://localhost:8080/",
          "height": 74
        },
        "outputId": "b781620b-e9be-492f-a62b-cd68c0fc3cb0"
      },
      "outputs": [
        {
          "output_type": "execute_result",
          "data": {
            "text/plain": [
              "RandomForestClassifier(n_jobs=-1, random_state=113)"
            ],
            "text/html": [
              "<style>#sk-container-id-5 {color: black;background-color: white;}#sk-container-id-5 pre{padding: 0;}#sk-container-id-5 div.sk-toggleable {background-color: white;}#sk-container-id-5 label.sk-toggleable__label {cursor: pointer;display: block;width: 100%;margin-bottom: 0;padding: 0.3em;box-sizing: border-box;text-align: center;}#sk-container-id-5 label.sk-toggleable__label-arrow:before {content: \"▸\";float: left;margin-right: 0.25em;color: #696969;}#sk-container-id-5 label.sk-toggleable__label-arrow:hover:before {color: black;}#sk-container-id-5 div.sk-estimator:hover label.sk-toggleable__label-arrow:before {color: black;}#sk-container-id-5 div.sk-toggleable__content {max-height: 0;max-width: 0;overflow: hidden;text-align: left;background-color: #f0f8ff;}#sk-container-id-5 div.sk-toggleable__content pre {margin: 0.2em;color: black;border-radius: 0.25em;background-color: #f0f8ff;}#sk-container-id-5 input.sk-toggleable__control:checked~div.sk-toggleable__content {max-height: 200px;max-width: 100%;overflow: auto;}#sk-container-id-5 input.sk-toggleable__control:checked~label.sk-toggleable__label-arrow:before {content: \"▾\";}#sk-container-id-5 div.sk-estimator input.sk-toggleable__control:checked~label.sk-toggleable__label {background-color: #d4ebff;}#sk-container-id-5 div.sk-label input.sk-toggleable__control:checked~label.sk-toggleable__label {background-color: #d4ebff;}#sk-container-id-5 input.sk-hidden--visually {border: 0;clip: rect(1px 1px 1px 1px);clip: rect(1px, 1px, 1px, 1px);height: 1px;margin: -1px;overflow: hidden;padding: 0;position: absolute;width: 1px;}#sk-container-id-5 div.sk-estimator {font-family: monospace;background-color: #f0f8ff;border: 1px dotted black;border-radius: 0.25em;box-sizing: border-box;margin-bottom: 0.5em;}#sk-container-id-5 div.sk-estimator:hover {background-color: #d4ebff;}#sk-container-id-5 div.sk-parallel-item::after {content: \"\";width: 100%;border-bottom: 1px solid gray;flex-grow: 1;}#sk-container-id-5 div.sk-label:hover label.sk-toggleable__label {background-color: #d4ebff;}#sk-container-id-5 div.sk-serial::before {content: \"\";position: absolute;border-left: 1px solid gray;box-sizing: border-box;top: 0;bottom: 0;left: 50%;z-index: 0;}#sk-container-id-5 div.sk-serial {display: flex;flex-direction: column;align-items: center;background-color: white;padding-right: 0.2em;padding-left: 0.2em;position: relative;}#sk-container-id-5 div.sk-item {position: relative;z-index: 1;}#sk-container-id-5 div.sk-parallel {display: flex;align-items: stretch;justify-content: center;background-color: white;position: relative;}#sk-container-id-5 div.sk-item::before, #sk-container-id-5 div.sk-parallel-item::before {content: \"\";position: absolute;border-left: 1px solid gray;box-sizing: border-box;top: 0;bottom: 0;left: 50%;z-index: -1;}#sk-container-id-5 div.sk-parallel-item {display: flex;flex-direction: column;z-index: 1;position: relative;background-color: white;}#sk-container-id-5 div.sk-parallel-item:first-child::after {align-self: flex-end;width: 50%;}#sk-container-id-5 div.sk-parallel-item:last-child::after {align-self: flex-start;width: 50%;}#sk-container-id-5 div.sk-parallel-item:only-child::after {width: 0;}#sk-container-id-5 div.sk-dashed-wrapped {border: 1px dashed gray;margin: 0 0.4em 0.5em 0.4em;box-sizing: border-box;padding-bottom: 0.4em;background-color: white;}#sk-container-id-5 div.sk-label label {font-family: monospace;font-weight: bold;display: inline-block;line-height: 1.2em;}#sk-container-id-5 div.sk-label-container {text-align: center;}#sk-container-id-5 div.sk-container {/* jupyter's `normalize.less` sets `[hidden] { display: none; }` but bootstrap.min.css set `[hidden] { display: none !important; }` so we also need the `!important` here to be able to override the default hidden behavior on the sphinx rendered scikit-learn.org. See: https://github.com/scikit-learn/scikit-learn/issues/21755 */display: inline-block !important;position: relative;}#sk-container-id-5 div.sk-text-repr-fallback {display: none;}</style><div id=\"sk-container-id-5\" class=\"sk-top-container\"><div class=\"sk-text-repr-fallback\"><pre>RandomForestClassifier(n_jobs=-1, random_state=113)</pre><b>In a Jupyter environment, please rerun this cell to show the HTML representation or trust the notebook. <br />On GitHub, the HTML representation is unable to render, please try loading this page with nbviewer.org.</b></div><div class=\"sk-container\" hidden><div class=\"sk-item\"><div class=\"sk-estimator sk-toggleable\"><input class=\"sk-toggleable__control sk-hidden--visually\" id=\"sk-estimator-id-5\" type=\"checkbox\" checked><label for=\"sk-estimator-id-5\" class=\"sk-toggleable__label sk-toggleable__label-arrow\">RandomForestClassifier</label><div class=\"sk-toggleable__content\"><pre>RandomForestClassifier(n_jobs=-1, random_state=113)</pre></div></div></div></div></div>"
            ]
          },
          "metadata": {},
          "execution_count": 59
        }
      ],
      "source": [
        "rf_model2 = RF(n_jobs = -1, random_state = 113)\n",
        "rf_model2.fit(x_train_drop, y_train)"
      ]
    },
    {
      "cell_type": "code",
      "execution_count": null,
      "metadata": {
        "id": "QomvucTrQclG",
        "colab": {
          "base_uri": "https://localhost:8080/"
        },
        "outputId": "bc97b56d-6b15-4909-f3be-70f1ea7f3868"
      },
      "outputs": [
        {
          "output_type": "stream",
          "name": "stdout",
          "text": [
            "[[ 4465     0   900]\n",
            " [    2  7638  1063]\n",
            " [  970  1678 13284]]\n",
            "              precision    recall  f1-score   support\n",
            "\n",
            "        Good       0.82      0.83      0.83      5365\n",
            "        Poor       0.82      0.88      0.85      8703\n",
            "    Standard       0.87      0.83      0.85     15932\n",
            "\n",
            "    accuracy                           0.85     30000\n",
            "   macro avg       0.84      0.85      0.84     30000\n",
            "weighted avg       0.85      0.85      0.85     30000\n",
            "\n"
          ]
        }
      ],
      "source": [
        "rf_prediction2 = rf_model2.predict(x_val_drop)\n",
        "rf_report2 = cr(y_val, rf_prediction2)\n",
        "print(cm(y_val, rf_prediction2))\n",
        "print(rf_report2)"
      ]
    },
    {
      "cell_type": "markdown",
      "source": [
        "Testing if the time needed for prediction for random forest model after dropping columns is less than ime needed for prediction for random forest model before dropping columns.\n",
        "Taking 100 samples each of prediction time and using significance level (α) = 0.1. The reason we use α = 0.1 instead of standard α = 0.05 is because there is no harmful drawback in testing whether or not the second model's prediction time is less than the first one. Additionally, the prediction time may differ from time to time as it depends on the environment. The hyphothezes are:</br>\n",
        "H<sub>0</sub>: µ<sub>1</sub> = µ<sub>2</sub></br>\n",
        "H<sub>1</sub>: µ<sub>1</sub> < µ<sub>2</sub>"
      ],
      "metadata": {
        "id": "23g7-GwXGrF4"
      }
    },
    {
      "cell_type": "code",
      "source": [
        "import time\n",
        "from statsmodels.stats.weightstats import ztest\n",
        "\n",
        "# Collect sample time data for each model\n",
        "n_samples = 100\n",
        "model1_times = [] # Random Forest without feature importances\n",
        "model2_times = [] # Random Forest with feature importances\n",
        "\n",
        "for _ in range(n_samples):\n",
        "    # Random Forest without feature importances\n",
        "    start_time = time.time()\n",
        "    rf_model1.predict(x_val)\n",
        "    end_time = time.time()\n",
        "    model1_times.append(end_time - start_time)\n",
        "\n",
        "    # Random Forest with feature importances\n",
        "    start_time = time.time()\n",
        "    rf_model2.predict(x_val_drop)\n",
        "    end_time = time.time()\n",
        "    model2_times.append(end_time - start_time)"
      ],
      "metadata": {
        "id": "3H-E2apxBcK6"
      },
      "execution_count": null,
      "outputs": []
    },
    {
      "cell_type": "code",
      "source": [
        "z_score, p_value = ztest(model1_times, model2_times, alternative = 'larger')\n",
        "\n",
        "print(\"Model 1:\")\n",
        "print(f\"Mean: {np.mean(model1_times)}\")\n",
        "print(f\"Standard Deviation: {np.std(model1_times)}\")\n",
        "print(\"\")\n",
        "\n",
        "print(\"Model 2:\")\n",
        "print(f\"Mean: {np.mean(model2_times)}\")\n",
        "print(f\"Standard Deviation: {np.std(model2_times)}\")\n",
        "print(\"\")\n",
        "\n",
        "print(\"One-tailed, Two-sample Z-test Results:\")\n",
        "print(f\"Z-score: {z_score}\")\n",
        "print(f\"P-value: {p_value}\")"
      ],
      "metadata": {
        "id": "7u9l2iPSLSmX",
        "colab": {
          "base_uri": "https://localhost:8080/"
        },
        "outputId": "bc578f39-a66f-4fac-c811-7961db426564"
      },
      "execution_count": null,
      "outputs": [
        {
          "output_type": "stream",
          "name": "stdout",
          "text": [
            "Model 1:\n",
            "Mean: 0.5180119705200196\n",
            "Standard Deviation: 0.12834329670217842\n",
            "\n",
            "Model 2:\n",
            "Mean: 0.48142295598983764\n",
            "Standard Deviation: 0.10645746139954876\n",
            "\n",
            "One-tailed, Two-sample Z-test Results:\n",
            "Z-score: 2.183259475615204\n",
            "P-value: 0.014508353523552096\n"
          ]
        }
      ]
    },
    {
      "cell_type": "markdown",
      "source": [
        "Since P-value < α, then we can reject H<sub>0</sub>. This means that the researcher is 90% confident that the prediction time of random forest model after droping columns is less than prediction time of random forest model before droping columns."
      ],
      "metadata": {
        "id": "o6mHfiMgLet2"
      }
    },
    {
      "cell_type": "markdown",
      "metadata": {
        "id": "bp7HpSCe1dbm"
      },
      "source": [
        "### 5.3.3. Oversampling"
      ]
    },
    {
      "cell_type": "code",
      "execution_count": null,
      "metadata": {
        "id": "hzUgR4Hm1gBS",
        "colab": {
          "base_uri": "https://localhost:8080/"
        },
        "outputId": "4d154e98-16e5-4fc4-a0c4-cc3b05a07517"
      },
      "outputs": [
        {
          "output_type": "execute_result",
          "data": {
            "text/plain": [
              "Standard    37242\n",
              "Poor        37242\n",
              "Good        37242\n",
              "Name: Credit_Score, dtype: int64"
            ]
          },
          "metadata": {},
          "execution_count": 63
        }
      ],
      "source": [
        "from imblearn.over_sampling import SMOTE\n",
        "\n",
        "smote = SMOTE()\n",
        "\n",
        "x_train_oversampled, y_train_oversampled = smote.fit_resample(x_train_drop, y_train)\n",
        "\n",
        "y_train_oversampled.value_counts()"
      ]
    },
    {
      "cell_type": "code",
      "execution_count": null,
      "metadata": {
        "id": "3FCZOWEg19o0",
        "colab": {
          "base_uri": "https://localhost:8080/",
          "height": 74
        },
        "outputId": "3a33bc63-711d-4200-f394-40086ebd5b91"
      },
      "outputs": [
        {
          "output_type": "execute_result",
          "data": {
            "text/plain": [
              "RandomForestClassifier(n_jobs=-1, random_state=113)"
            ],
            "text/html": [
              "<style>#sk-container-id-6 {color: black;background-color: white;}#sk-container-id-6 pre{padding: 0;}#sk-container-id-6 div.sk-toggleable {background-color: white;}#sk-container-id-6 label.sk-toggleable__label {cursor: pointer;display: block;width: 100%;margin-bottom: 0;padding: 0.3em;box-sizing: border-box;text-align: center;}#sk-container-id-6 label.sk-toggleable__label-arrow:before {content: \"▸\";float: left;margin-right: 0.25em;color: #696969;}#sk-container-id-6 label.sk-toggleable__label-arrow:hover:before {color: black;}#sk-container-id-6 div.sk-estimator:hover label.sk-toggleable__label-arrow:before {color: black;}#sk-container-id-6 div.sk-toggleable__content {max-height: 0;max-width: 0;overflow: hidden;text-align: left;background-color: #f0f8ff;}#sk-container-id-6 div.sk-toggleable__content pre {margin: 0.2em;color: black;border-radius: 0.25em;background-color: #f0f8ff;}#sk-container-id-6 input.sk-toggleable__control:checked~div.sk-toggleable__content {max-height: 200px;max-width: 100%;overflow: auto;}#sk-container-id-6 input.sk-toggleable__control:checked~label.sk-toggleable__label-arrow:before {content: \"▾\";}#sk-container-id-6 div.sk-estimator input.sk-toggleable__control:checked~label.sk-toggleable__label {background-color: #d4ebff;}#sk-container-id-6 div.sk-label input.sk-toggleable__control:checked~label.sk-toggleable__label {background-color: #d4ebff;}#sk-container-id-6 input.sk-hidden--visually {border: 0;clip: rect(1px 1px 1px 1px);clip: rect(1px, 1px, 1px, 1px);height: 1px;margin: -1px;overflow: hidden;padding: 0;position: absolute;width: 1px;}#sk-container-id-6 div.sk-estimator {font-family: monospace;background-color: #f0f8ff;border: 1px dotted black;border-radius: 0.25em;box-sizing: border-box;margin-bottom: 0.5em;}#sk-container-id-6 div.sk-estimator:hover {background-color: #d4ebff;}#sk-container-id-6 div.sk-parallel-item::after {content: \"\";width: 100%;border-bottom: 1px solid gray;flex-grow: 1;}#sk-container-id-6 div.sk-label:hover label.sk-toggleable__label {background-color: #d4ebff;}#sk-container-id-6 div.sk-serial::before {content: \"\";position: absolute;border-left: 1px solid gray;box-sizing: border-box;top: 0;bottom: 0;left: 50%;z-index: 0;}#sk-container-id-6 div.sk-serial {display: flex;flex-direction: column;align-items: center;background-color: white;padding-right: 0.2em;padding-left: 0.2em;position: relative;}#sk-container-id-6 div.sk-item {position: relative;z-index: 1;}#sk-container-id-6 div.sk-parallel {display: flex;align-items: stretch;justify-content: center;background-color: white;position: relative;}#sk-container-id-6 div.sk-item::before, #sk-container-id-6 div.sk-parallel-item::before {content: \"\";position: absolute;border-left: 1px solid gray;box-sizing: border-box;top: 0;bottom: 0;left: 50%;z-index: -1;}#sk-container-id-6 div.sk-parallel-item {display: flex;flex-direction: column;z-index: 1;position: relative;background-color: white;}#sk-container-id-6 div.sk-parallel-item:first-child::after {align-self: flex-end;width: 50%;}#sk-container-id-6 div.sk-parallel-item:last-child::after {align-self: flex-start;width: 50%;}#sk-container-id-6 div.sk-parallel-item:only-child::after {width: 0;}#sk-container-id-6 div.sk-dashed-wrapped {border: 1px dashed gray;margin: 0 0.4em 0.5em 0.4em;box-sizing: border-box;padding-bottom: 0.4em;background-color: white;}#sk-container-id-6 div.sk-label label {font-family: monospace;font-weight: bold;display: inline-block;line-height: 1.2em;}#sk-container-id-6 div.sk-label-container {text-align: center;}#sk-container-id-6 div.sk-container {/* jupyter's `normalize.less` sets `[hidden] { display: none; }` but bootstrap.min.css set `[hidden] { display: none !important; }` so we also need the `!important` here to be able to override the default hidden behavior on the sphinx rendered scikit-learn.org. See: https://github.com/scikit-learn/scikit-learn/issues/21755 */display: inline-block !important;position: relative;}#sk-container-id-6 div.sk-text-repr-fallback {display: none;}</style><div id=\"sk-container-id-6\" class=\"sk-top-container\"><div class=\"sk-text-repr-fallback\"><pre>RandomForestClassifier(n_jobs=-1, random_state=113)</pre><b>In a Jupyter environment, please rerun this cell to show the HTML representation or trust the notebook. <br />On GitHub, the HTML representation is unable to render, please try loading this page with nbviewer.org.</b></div><div class=\"sk-container\" hidden><div class=\"sk-item\"><div class=\"sk-estimator sk-toggleable\"><input class=\"sk-toggleable__control sk-hidden--visually\" id=\"sk-estimator-id-6\" type=\"checkbox\" checked><label for=\"sk-estimator-id-6\" class=\"sk-toggleable__label sk-toggleable__label-arrow\">RandomForestClassifier</label><div class=\"sk-toggleable__content\"><pre>RandomForestClassifier(n_jobs=-1, random_state=113)</pre></div></div></div></div></div>"
            ]
          },
          "metadata": {},
          "execution_count": 64
        }
      ],
      "source": [
        "rf_model3 = RF(n_jobs = -1, random_state = 113)\n",
        "rf_model3.fit(x_train_oversampled, y_train_oversampled)"
      ]
    },
    {
      "cell_type": "code",
      "execution_count": null,
      "metadata": {
        "id": "VbKwm0Tr2Ku6",
        "colab": {
          "base_uri": "https://localhost:8080/"
        },
        "outputId": "c0d5c6ee-29c7-42c3-cf54-b23ac12454f2"
      },
      "outputs": [
        {
          "output_type": "stream",
          "name": "stdout",
          "text": [
            "[[ 4489     0   876]\n",
            " [    2  7674  1027]\n",
            " [  982  1689 13261]]\n",
            "              precision    recall  f1-score   support\n",
            "\n",
            "        Good       0.82      0.84      0.83      5365\n",
            "        Poor       0.82      0.88      0.85      8703\n",
            "    Standard       0.87      0.83      0.85     15932\n",
            "\n",
            "    accuracy                           0.85     30000\n",
            "   macro avg       0.84      0.85      0.84     30000\n",
            "weighted avg       0.85      0.85      0.85     30000\n",
            "\n"
          ]
        }
      ],
      "source": [
        "rf_prediction3 = rf_model3.predict(x_val_drop)\n",
        "rf_report3 = cr(y_val, rf_prediction3)\n",
        "print(cm(y_val, rf_prediction3))\n",
        "print(rf_report3)"
      ]
    },
    {
      "cell_type": "markdown",
      "metadata": {
        "id": "Wyrha8F49f9Z"
      },
      "source": [
        "### 5.3.4. Hyperparameter Tuning"
      ]
    },
    {
      "cell_type": "code",
      "execution_count": null,
      "metadata": {
        "id": "KNkbxu2-k_wQ",
        "colab": {
          "base_uri": "https://localhost:8080/",
          "height": 117
        },
        "outputId": "8ff69530-f8d8-4446-e2fe-33aa6294c9db"
      },
      "outputs": [
        {
          "output_type": "execute_result",
          "data": {
            "text/plain": [
              "GridSearchCV(estimator=RandomForestClassifier(n_jobs=-1),\n",
              "             param_grid={'max_depth': [50, 100, 200, None],\n",
              "                         'min_samples_split': [2, 3],\n",
              "                         'n_estimators': [50, 100, 200]})"
            ],
            "text/html": [
              "<style>#sk-container-id-7 {color: black;background-color: white;}#sk-container-id-7 pre{padding: 0;}#sk-container-id-7 div.sk-toggleable {background-color: white;}#sk-container-id-7 label.sk-toggleable__label {cursor: pointer;display: block;width: 100%;margin-bottom: 0;padding: 0.3em;box-sizing: border-box;text-align: center;}#sk-container-id-7 label.sk-toggleable__label-arrow:before {content: \"▸\";float: left;margin-right: 0.25em;color: #696969;}#sk-container-id-7 label.sk-toggleable__label-arrow:hover:before {color: black;}#sk-container-id-7 div.sk-estimator:hover label.sk-toggleable__label-arrow:before {color: black;}#sk-container-id-7 div.sk-toggleable__content {max-height: 0;max-width: 0;overflow: hidden;text-align: left;background-color: #f0f8ff;}#sk-container-id-7 div.sk-toggleable__content pre {margin: 0.2em;color: black;border-radius: 0.25em;background-color: #f0f8ff;}#sk-container-id-7 input.sk-toggleable__control:checked~div.sk-toggleable__content {max-height: 200px;max-width: 100%;overflow: auto;}#sk-container-id-7 input.sk-toggleable__control:checked~label.sk-toggleable__label-arrow:before {content: \"▾\";}#sk-container-id-7 div.sk-estimator input.sk-toggleable__control:checked~label.sk-toggleable__label {background-color: #d4ebff;}#sk-container-id-7 div.sk-label input.sk-toggleable__control:checked~label.sk-toggleable__label {background-color: #d4ebff;}#sk-container-id-7 input.sk-hidden--visually {border: 0;clip: rect(1px 1px 1px 1px);clip: rect(1px, 1px, 1px, 1px);height: 1px;margin: -1px;overflow: hidden;padding: 0;position: absolute;width: 1px;}#sk-container-id-7 div.sk-estimator {font-family: monospace;background-color: #f0f8ff;border: 1px dotted black;border-radius: 0.25em;box-sizing: border-box;margin-bottom: 0.5em;}#sk-container-id-7 div.sk-estimator:hover {background-color: #d4ebff;}#sk-container-id-7 div.sk-parallel-item::after {content: \"\";width: 100%;border-bottom: 1px solid gray;flex-grow: 1;}#sk-container-id-7 div.sk-label:hover label.sk-toggleable__label {background-color: #d4ebff;}#sk-container-id-7 div.sk-serial::before {content: \"\";position: absolute;border-left: 1px solid gray;box-sizing: border-box;top: 0;bottom: 0;left: 50%;z-index: 0;}#sk-container-id-7 div.sk-serial {display: flex;flex-direction: column;align-items: center;background-color: white;padding-right: 0.2em;padding-left: 0.2em;position: relative;}#sk-container-id-7 div.sk-item {position: relative;z-index: 1;}#sk-container-id-7 div.sk-parallel {display: flex;align-items: stretch;justify-content: center;background-color: white;position: relative;}#sk-container-id-7 div.sk-item::before, #sk-container-id-7 div.sk-parallel-item::before {content: \"\";position: absolute;border-left: 1px solid gray;box-sizing: border-box;top: 0;bottom: 0;left: 50%;z-index: -1;}#sk-container-id-7 div.sk-parallel-item {display: flex;flex-direction: column;z-index: 1;position: relative;background-color: white;}#sk-container-id-7 div.sk-parallel-item:first-child::after {align-self: flex-end;width: 50%;}#sk-container-id-7 div.sk-parallel-item:last-child::after {align-self: flex-start;width: 50%;}#sk-container-id-7 div.sk-parallel-item:only-child::after {width: 0;}#sk-container-id-7 div.sk-dashed-wrapped {border: 1px dashed gray;margin: 0 0.4em 0.5em 0.4em;box-sizing: border-box;padding-bottom: 0.4em;background-color: white;}#sk-container-id-7 div.sk-label label {font-family: monospace;font-weight: bold;display: inline-block;line-height: 1.2em;}#sk-container-id-7 div.sk-label-container {text-align: center;}#sk-container-id-7 div.sk-container {/* jupyter's `normalize.less` sets `[hidden] { display: none; }` but bootstrap.min.css set `[hidden] { display: none !important; }` so we also need the `!important` here to be able to override the default hidden behavior on the sphinx rendered scikit-learn.org. See: https://github.com/scikit-learn/scikit-learn/issues/21755 */display: inline-block !important;position: relative;}#sk-container-id-7 div.sk-text-repr-fallback {display: none;}</style><div id=\"sk-container-id-7\" class=\"sk-top-container\"><div class=\"sk-text-repr-fallback\"><pre>GridSearchCV(estimator=RandomForestClassifier(n_jobs=-1),\n",
              "             param_grid={&#x27;max_depth&#x27;: [50, 100, 200, None],\n",
              "                         &#x27;min_samples_split&#x27;: [2, 3],\n",
              "                         &#x27;n_estimators&#x27;: [50, 100, 200]})</pre><b>In a Jupyter environment, please rerun this cell to show the HTML representation or trust the notebook. <br />On GitHub, the HTML representation is unable to render, please try loading this page with nbviewer.org.</b></div><div class=\"sk-container\" hidden><div class=\"sk-item sk-dashed-wrapped\"><div class=\"sk-label-container\"><div class=\"sk-label sk-toggleable\"><input class=\"sk-toggleable__control sk-hidden--visually\" id=\"sk-estimator-id-7\" type=\"checkbox\" ><label for=\"sk-estimator-id-7\" class=\"sk-toggleable__label sk-toggleable__label-arrow\">GridSearchCV</label><div class=\"sk-toggleable__content\"><pre>GridSearchCV(estimator=RandomForestClassifier(n_jobs=-1),\n",
              "             param_grid={&#x27;max_depth&#x27;: [50, 100, 200, None],\n",
              "                         &#x27;min_samples_split&#x27;: [2, 3],\n",
              "                         &#x27;n_estimators&#x27;: [50, 100, 200]})</pre></div></div></div><div class=\"sk-parallel\"><div class=\"sk-parallel-item\"><div class=\"sk-item\"><div class=\"sk-label-container\"><div class=\"sk-label sk-toggleable\"><input class=\"sk-toggleable__control sk-hidden--visually\" id=\"sk-estimator-id-8\" type=\"checkbox\" ><label for=\"sk-estimator-id-8\" class=\"sk-toggleable__label sk-toggleable__label-arrow\">estimator: RandomForestClassifier</label><div class=\"sk-toggleable__content\"><pre>RandomForestClassifier(n_jobs=-1)</pre></div></div></div><div class=\"sk-serial\"><div class=\"sk-item\"><div class=\"sk-estimator sk-toggleable\"><input class=\"sk-toggleable__control sk-hidden--visually\" id=\"sk-estimator-id-9\" type=\"checkbox\" ><label for=\"sk-estimator-id-9\" class=\"sk-toggleable__label sk-toggleable__label-arrow\">RandomForestClassifier</label><div class=\"sk-toggleable__content\"><pre>RandomForestClassifier(n_jobs=-1)</pre></div></div></div></div></div></div></div></div></div></div>"
            ]
          },
          "metadata": {},
          "execution_count": 66
        }
      ],
      "source": [
        "rf_grid ={\n",
        "    'n_estimators' : [50, 100, 200],\n",
        "    'max_depth': [50, 100, 200, None],\n",
        "    'min_samples_split': [2, 3]\n",
        "}\n",
        "\n",
        "rf_tune = GS(RF(n_jobs = -1),\n",
        "             rf_grid,\n",
        "             refit = True)\n",
        "\n",
        "rf_tune.fit(x_train_drop, y_train)"
      ]
    },
    {
      "cell_type": "code",
      "execution_count": null,
      "metadata": {
        "id": "bf1AoAXmxmyr",
        "colab": {
          "base_uri": "https://localhost:8080/"
        },
        "outputId": "d59a627d-86f8-4adc-aa40-63de906c3a7f"
      },
      "outputs": [
        {
          "output_type": "stream",
          "name": "stdout",
          "text": [
            "{'max_depth': 200, 'min_samples_split': 3, 'n_estimators': 100}\n",
            "RandomForestClassifier(max_depth=200, min_samples_split=3, n_jobs=-1)\n"
          ]
        }
      ],
      "source": [
        "print(rf_tune.best_params_)\n",
        "print(rf_tune.best_estimator_)"
      ]
    },
    {
      "cell_type": "code",
      "execution_count": null,
      "metadata": {
        "id": "eptDvBXjpTn6",
        "colab": {
          "base_uri": "https://localhost:8080/"
        },
        "outputId": "c2eeb6e8-d6af-41cc-980a-35219c3f7296"
      },
      "outputs": [
        {
          "output_type": "stream",
          "name": "stdout",
          "text": [
            "[[ 4472     0   893]\n",
            " [    1  7654  1048]\n",
            " [  959  1664 13309]]\n",
            "              precision    recall  f1-score   support\n",
            "\n",
            "        Good       0.82      0.83      0.83      5365\n",
            "        Poor       0.82      0.88      0.85      8703\n",
            "    Standard       0.87      0.84      0.85     15932\n",
            "\n",
            "    accuracy                           0.85     30000\n",
            "   macro avg       0.84      0.85      0.84     30000\n",
            "weighted avg       0.85      0.85      0.85     30000\n",
            "\n"
          ]
        }
      ],
      "source": [
        "rf_tune_prediction = rf_tune.predict(x_val_drop)\n",
        "rf_tune_report = cr(y_val, rf_tune_prediction)\n",
        "print(cm(y_val, rf_tune_prediction))\n",
        "print(rf_tune_report)"
      ]
    }
  ],
  "metadata": {
    "colab": {
      "collapsed_sections": [
        "MO00z4lAf2Nk"
      ],
      "provenance": []
    },
    "kernelspec": {
      "display_name": "Python 3",
      "name": "python3"
    },
    "language_info": {
      "name": "python"
    }
  },
  "nbformat": 4,
  "nbformat_minor": 0
}